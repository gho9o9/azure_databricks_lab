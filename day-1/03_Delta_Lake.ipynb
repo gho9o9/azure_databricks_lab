{
 "cells": [
  {
   "cell_type": "markdown",
   "metadata": {
    "application/vnd.databricks.v1+cell": {
     "cellMetadata": {},
     "inputWidgets": {},
     "nuid": "3085d655-6072-4dc3-8a44-6a6b3498840c",
     "showTitle": false,
     "tableResultSettingsMap": {},
     "title": ""
    }
   },
   "source": [
    "# はじめに\n",
    "\n",
    "本ノートブックでは **プロビジョニング汎用コンピューティング** をアタッチしてください。\n",
    "学習観点でのわかりやすさのため、本ノートブックでは一部で hive_metastore や DBFS を利用しますが、これらの機能がサーバレスクラスタを通じて利用できないためです。\n",
    "\n",
    "**注意**  \n",
    "hive_metastore や DBFS はいずれもセキュリティ観点で利用が非推奨となっており、現在はそれぞれ後継機能（Unity Catalog、外部ローケーション）が提供されいます。そうした背景もあり、hive_metastore や DBFS はサーバレスコンピューティングではサポートされていません。  \n",
    "よって本ノートブックではプロビジョニング汎用コンピューティングを使用しますが、hive_metastore や DBFS へのオペレーション自体は後継機能（Unity Catalog、外部ローケーション）でも同様であるためそれぞれ後継機能で置き換えることで動作します。"
   ]
  },
  {
   "cell_type": "code",
   "execution_count": 0,
   "metadata": {
    "application/vnd.databricks.v1+cell": {
     "cellMetadata": {
      "byteLimit": 2048000,
      "implicitDf": true,
      "rowLimit": 10000
     },
     "inputWidgets": {},
     "nuid": "c946d6f2-c5ad-4e10-9083-bb0d4cd00772",
     "showTitle": false,
     "tableResultSettingsMap": {},
     "title": ""
    }
   },
   "outputs": [],
   "source": [
    "%run .././include/handson.h"
   ]
  },
  {
   "cell_type": "code",
   "execution_count": 0,
   "metadata": {
    "application/vnd.databricks.v1+cell": {
     "cellMetadata": {
      "byteLimit": 2048000,
      "rowLimit": 10000
     },
     "inputWidgets": {},
     "nuid": "ee5d380e-e4e5-40b1-ae8c-8ecaa452171a",
     "showTitle": false,
     "tableResultSettingsMap": {},
     "title": ""
    }
   },
   "outputs": [],
   "source": [
    "%python\n",
    "# SQL コンテキスト用パラメータ定義（spark.conf.set はサーバレス未サポートのため Widgets で環境変数定義）\n",
    "dbutils.widgets.text(\"sample_dataset_path\", sample_dataset_path)\n",
    "dbutils.widgets.text(\"your_catalog\", your_catalog)\n",
    "dbutils.widgets.text(\"your_schema\", your_schema)\n",
    "\n",
    "# spark.conf.set(f\"sample_dataset_path\", sample_dataset_path) # for SQL Context\n",
    "# spark.conf.set(f\"your_catalog\", your_catalog) # for SQL Context\n",
    "# spark.conf.set(f\"your_schema\", your_schema) # for SQL Context"
   ]
  },
  {
   "cell_type": "markdown",
   "metadata": {
    "application/vnd.databricks.v1+cell": {
     "cellMetadata": {},
     "inputWidgets": {},
     "nuid": "e1df950c-4390-4cae-a432-8f2b46dd3a13",
     "showTitle": false,
     "tableResultSettingsMap": {},
     "title": ""
    }
   },
   "source": [
    "# 1. Delta Lake の構造"
   ]
  },
  {
   "cell_type": "markdown",
   "metadata": {
    "application/vnd.databricks.v1+cell": {
     "cellMetadata": {},
     "inputWidgets": {},
     "nuid": "165b28fb-67f0-4c62-a0cf-d817b8b132de",
     "showTitle": false,
     "tableResultSettingsMap": {},
     "title": ""
    }
   },
   "source": [
    "**はじめに**：学習観点のわかりやすさのため hive_metastore を利用するためにコンテキストを切り替えます"
   ]
  },
  {
   "cell_type": "code",
   "execution_count": 0,
   "metadata": {
    "application/vnd.databricks.v1+cell": {
     "cellMetadata": {
      "byteLimit": 2048000,
      "rowLimit": 10000
     },
     "inputWidgets": {},
     "nuid": "f2f2f8bb-2669-4298-98d1-cdf80811bda5",
     "showTitle": false,
     "tableResultSettingsMap": {},
     "title": ""
    }
   },
   "outputs": [],
   "source": [
    "USE CATALOG hive_metastore;\n",
    "CREATE SCHEMA IF NOT EXISTS ${your_schema};\n",
    "USE SCHEMA ${your_schema};"
   ]
  },
  {
   "cell_type": "markdown",
   "metadata": {
    "application/vnd.databricks.v1+cell": {
     "cellMetadata": {},
     "inputWidgets": {},
     "nuid": "4fc7586c-d561-48e5-be0b-7a9722714004",
     "showTitle": false,
     "tableResultSettingsMap": {},
     "title": ""
    }
   },
   "source": [
    "## Delta Table の作成とトランザクションの実行\n",
    "\n",
    "ここでは構造や挙動の確認を通じて Delta Table の理解を深めます。\n",
    "\n",
    "さっそく Delta Table を定義しいくつかのオペレーション（トランザクション）を実行してみましょう。"
   ]
  },
  {
   "cell_type": "code",
   "execution_count": 0,
   "metadata": {
    "application/vnd.databricks.v1+cell": {
     "cellMetadata": {
      "byteLimit": 2048000,
      "rowLimit": 10000
     },
     "inputWidgets": {},
     "nuid": "ac1c7d45-c705-42d3-9cff-c7a7fe209b0b",
     "showTitle": false,
     "tableResultSettingsMap": {},
     "title": ""
    }
   },
   "outputs": [],
   "source": [
    "DROP TABLE IF EXISTS students;\n",
    "\n",
    "CREATE OR REPLACE TABLE students  (id INT, name STRING, value DOUBLE);\n",
    "\n",
    "INSERT INTO students VALUES (1, \"Yve\", 1.0);\n",
    "INSERT INTO students VALUES (2, \"Omar\", 2.5);\n",
    "INSERT INTO students VALUES (3, \"Elia\", 3.3);\n",
    "\n",
    "INSERT INTO students\n",
    "VALUES \n",
    "  (4, \"Ted\", 4.7),\n",
    "  (5, \"Tiffany\", 5.5),\n",
    "  (6, \"Vini\", 6.3);\n",
    "\n",
    "UPDATE students \n",
    "SET value = value + 1\n",
    "WHERE name LIKE \"T%\";\n",
    "\n",
    "DELETE FROM students \n",
    "WHERE value > 6;\n",
    "\n",
    "CREATE OR REPLACE TEMP VIEW updates(id, name, value, type) AS VALUES\n",
    "  (2, \"Omar\", 15.2, \"update\"),\n",
    "  (3, \"\", null, \"delete\"),\n",
    "  (7, \"Blue\", 7.7, \"insert\"),\n",
    "  (11, \"Diya\", 8.8, \"update\");\n",
    "  \n",
    "MERGE INTO students b\n",
    "USING updates u\n",
    "ON b.id=u.id\n",
    "WHEN MATCHED AND u.type = \"update\"\n",
    "  THEN UPDATE SET *\n",
    "WHEN MATCHED AND u.type = \"delete\"\n",
    "  THEN DELETE\n",
    "WHEN NOT MATCHED AND u.type = \"insert\"\n",
    "  THEN INSERT *;"
   ]
  },
  {
   "cell_type": "markdown",
   "metadata": {
    "application/vnd.databricks.v1+cell": {
     "cellMetadata": {},
     "inputWidgets": {},
     "nuid": "2969e731-25e3-479c-85c4-e0ddc408ba31",
     "showTitle": false,
     "tableResultSettingsMap": {},
     "title": ""
    }
   },
   "source": [
    "## テーブルのメタデータの確認"
   ]
  },
  {
   "cell_type": "markdown",
   "metadata": {
    "application/vnd.databricks.v1+cell": {
     "cellMetadata": {},
     "inputWidgets": {},
     "nuid": "f951ad7e-7b92-48fa-ba0f-c68c3dfe729f",
     "showTitle": false,
     "tableResultSettingsMap": {},
     "title": ""
    }
   },
   "source": [
    "**`DESCRIBE EXTENDED`** を使用すると、テーブルに関するメタデータを表示できます。"
   ]
  },
  {
   "cell_type": "code",
   "execution_count": 0,
   "metadata": {
    "application/vnd.databricks.v1+cell": {
     "cellMetadata": {
      "byteLimit": 2048000,
      "rowLimit": 10000
     },
     "inputWidgets": {},
     "nuid": "75c94853-4246-4eb5-b9b7-0829ae50ab47",
     "showTitle": false,
     "tableResultSettingsMap": {},
     "title": ""
    }
   },
   "outputs": [],
   "source": [
    "DESCRIBE EXTENDED students;"
   ]
  },
  {
   "cell_type": "markdown",
   "metadata": {
    "application/vnd.databricks.v1+cell": {
     "cellMetadata": {},
     "inputWidgets": {},
     "nuid": "acd89941-edda-4022-a5fa-c8bcdcb1b9ff",
     "showTitle": false,
     "tableResultSettingsMap": {},
     "title": ""
    }
   },
   "source": [
    "**`Location`** フィールドを見ると Delta Table はクラウドストレージに格納されていることが確認できます。"
   ]
  },
  {
   "cell_type": "markdown",
   "metadata": {
    "application/vnd.databricks.v1+cell": {
     "cellMetadata": {},
     "inputWidgets": {},
     "nuid": "7602d343-3d84-4fb1-bf98-5f059a6db339",
     "showTitle": false,
     "tableResultSettingsMap": {},
     "title": ""
    }
   },
   "source": [
    "## Delta Table を構成するファイルの探索\n",
    "\n",
    "Databricksのユーティリティ関数を使用して Delta Table を構成するファイル構造を探索してみましょう。\n",
    "\n",
    "**補足** ：利用者にとって本来はファイル構造を意識する必要はありませんが技術がどのように実装されているかを理解を深めるのに役立ちます。\n",
    "\n",
    "**注意** ：同様に利用者によるストレージへの直接アクセスは本来は制限されるべきですが、レガシー（利用非推奨）である hive_metastore ではストレージパスのリストが可能です（後継の Unity Catalog ではサポートされない操作です）。"
   ]
  },
  {
   "cell_type": "code",
   "execution_count": 0,
   "metadata": {
    "application/vnd.databricks.v1+cell": {
     "cellMetadata": {
      "byteLimit": 2048000,
      "rowLimit": 10000
     },
     "inputWidgets": {},
     "nuid": "41e7d9a9-dbd4-4dcf-b374-17f9df55fc6d",
     "showTitle": false,
     "tableResultSettingsMap": {},
     "title": ""
    }
   },
   "outputs": [],
   "source": [
    "%python\n",
    "tbl_location = spark.sql(\"DESCRIBE DETAIL students\").first().location\n",
    "data_files = dbutils.fs.ls(tbl_location)\n",
    "display(data_files)\n"
   ]
  },
  {
   "cell_type": "markdown",
   "metadata": {
    "application/vnd.databricks.v1+cell": {
     "cellMetadata": {},
     "inputWidgets": {},
     "nuid": "a580f427-4cda-49cf-9eb3-48c363ac69ea",
     "showTitle": false,
     "tableResultSettingsMap": {},
     "title": ""
    }
   },
   "source": [
    "\n",
    "ディレクトリにはいくつかの Parquet ファイルと  **`_delta_log`** ディレクトリが含まれていることが確認できます。\n",
    "\n",
    "- Delta Table のデータは Parquet ファイルとして保存されます。\n",
    "\n",
    "- Delta Table へのトランザクションは **`_delta_log`** ディレクトリ内のトランザクションログとして記録されます。\n",
    "\n",
    "次に **`_delta_log`** ディレクトリ内のトランザクションログを探索してみましょう。"
   ]
  },
  {
   "cell_type": "code",
   "execution_count": 0,
   "metadata": {
    "application/vnd.databricks.v1+cell": {
     "cellMetadata": {
      "byteLimit": 2048000,
      "rowLimit": 10000
     },
     "inputWidgets": {},
     "nuid": "867dd547-70fd-4b4e-bb59-3a31eadb2f4b",
     "showTitle": false,
     "tableResultSettingsMap": {},
     "title": ""
    }
   },
   "outputs": [],
   "source": [
    "%python\n",
    "log_files = dbutils.fs.ls(tbl_location + \"/_delta_log\")\n",
    "display(log_files)"
   ]
  },
  {
   "cell_type": "markdown",
   "metadata": {
    "application/vnd.databricks.v1+cell": {
     "cellMetadata": {},
     "inputWidgets": {},
     "nuid": "1f4afc9a-b003-4341-b104-07b68b47f97c",
     "showTitle": false,
     "tableResultSettingsMap": {},
     "title": ""
    }
   },
   "source": [
    "JSON ファイル がトランザクションログファイルに相当します。\n",
    "\n",
    "単一 トランザクションごとに単一 JSON ファイルを書き込みます。よって JSON ファイルの数からこのテーブルに対するトランザクション数がわかります。  "
   ]
  },
  {
   "cell_type": "markdown",
   "metadata": {
    "application/vnd.databricks.v1+cell": {
     "cellMetadata": {},
     "inputWidgets": {},
     "nuid": "47d38616-f96a-4283-aa1d-3af118df9c42",
     "showTitle": false,
     "tableResultSettingsMap": {},
     "title": ""
    }
   },
   "source": [
    "## トランザクション履歴の確認\n",
    "\n",
    "トランザクションの履歴を見てみましょう。"
   ]
  },
  {
   "cell_type": "code",
   "execution_count": 0,
   "metadata": {
    "application/vnd.databricks.v1+cell": {
     "cellMetadata": {
      "byteLimit": 2048000,
      "rowLimit": 10000
     },
     "inputWidgets": {},
     "nuid": "ca6f0870-5e02-417b-9314-f7e85331d757",
     "showTitle": false,
     "tableResultSettingsMap": {},
     "title": ""
    }
   },
   "outputs": [],
   "source": [
    "DESCRIBE HISTORY students;"
   ]
  },
  {
   "cell_type": "markdown",
   "metadata": {
    "application/vnd.databricks.v1+cell": {
     "cellMetadata": {},
     "inputWidgets": {},
     "nuid": "e73a118a-68a0-43fc-8b81-612220f1d765",
     "showTitle": false,
     "tableResultSettingsMap": {},
     "title": ""
    }
   },
   "source": [
    "ユーザー操作以外の内部的なシステムトランザクション（OPTIMIZE）を含むすべてのトランザクションが確認できます。\n",
    "\n",
    "**補足**: Databricks Runtime 10.4 LTS 以降では MERGE、UPDATE、DELETE の各操作に対して OPTIMIZE が常に有効になります。\n",
    "\n",
    "**参考**：[データ ファイル サイズを制御するように Delta Lake を構成する](https://learn.microsoft.com/ja-jp/azure/databricks/delta/tune-file-size)"
   ]
  },
  {
   "cell_type": "markdown",
   "metadata": {
    "application/vnd.databricks.v1+cell": {
     "cellMetadata": {},
     "inputWidgets": {},
     "nuid": "54aa8087-000b-4f3a-b673-11aa0344596f",
     "showTitle": false,
     "tableResultSettingsMap": {},
     "title": ""
    }
   },
   "source": [
    "## データファイルの深堀\n",
    "**`DESCRIBE DETAIL`** は **`DESCRIBE EXTENDED`** と同様にテーブルのメタデータを参照するための別のコマンドです。\n",
    "\n",
    "**`DESCRIBE DETAIL`** の **`numFiles`** フィールドにより該当テーブルにおける最新バージョンで有効なデータファイル数が確認できます。"
   ]
  },
  {
   "cell_type": "code",
   "execution_count": 0,
   "metadata": {
    "application/vnd.databricks.v1+cell": {
     "cellMetadata": {
      "byteLimit": 2048000,
      "rowLimit": 10000
     },
     "inputWidgets": {},
     "nuid": "12a15a0f-c0c3-4314-a7c5-19f99c1b78b5",
     "showTitle": false,
     "tableResultSettingsMap": {},
     "title": ""
    }
   },
   "outputs": [],
   "source": [
    "DESCRIBE DETAIL students;"
   ]
  },
  {
   "cell_type": "markdown",
   "metadata": {
    "application/vnd.databricks.v1+cell": {
     "cellMetadata": {},
     "inputWidgets": {},
     "nuid": "4c3a12e5-4159-4b71-bf8f-8e70843d3ded",
     "showTitle": false,
     "tableResultSettingsMap": {},
     "title": ""
    }
   },
   "source": [
    "Delta Table のディレクトリ配下に多くのデータファイルが確認できましたが最新バージョンとして有効なデータファイルは１つであることがわかります。"
   ]
  },
  {
   "cell_type": "markdown",
   "metadata": {
    "application/vnd.databricks.v1+cell": {
     "cellMetadata": {},
     "inputWidgets": {},
     "nuid": "764251bf-c29f-4e7e-841b-b12edc4f3a95",
     "showTitle": false,
     "tableResultSettingsMap": {},
     "title": ""
    }
   },
   "source": [
    "次に Delta Table の各レコードが格納されているデータファイルを確認してみましょう。\n",
    "\n",
    "Delta Table は内部的にメタデータを保持しており _metadata.* 列としてアクセスが可能で **`_metadata.file_name`** 列によりレコードが格納されているデータファイルを確認できます。\n",
    "\n",
    "**参考**：[ファイル メタデータ列](https://learn.microsoft.com/ja-jp/azure/databricks/ingestion/file-metadata-column)"
   ]
  },
  {
   "cell_type": "code",
   "execution_count": 0,
   "metadata": {
    "application/vnd.databricks.v1+cell": {
     "cellMetadata": {
      "byteLimit": 2048000,
      "rowLimit": 10000
     },
     "inputWidgets": {},
     "nuid": "df988af5-dde4-4820-912b-9b193bd36a2f",
     "showTitle": false,
     "tableResultSettingsMap": {},
     "title": ""
    }
   },
   "outputs": [],
   "source": [
    "SELECT _metadata.file_name, * FROM students;"
   ]
  },
  {
   "cell_type": "markdown",
   "metadata": {
    "application/vnd.databricks.v1+cell": {
     "cellMetadata": {},
     "inputWidgets": {},
     "nuid": "6f57da94-4ab9-469c-84cc-cc80b49d633c",
     "showTitle": false,
     "tableResultSettingsMap": {},
     "title": ""
    }
   },
   "source": [
    "GROUP BY により現在有効なファイルを確認できます。"
   ]
  },
  {
   "cell_type": "code",
   "execution_count": 0,
   "metadata": {
    "application/vnd.databricks.v1+cell": {
     "cellMetadata": {
      "byteLimit": 2048000,
      "rowLimit": 10000
     },
     "inputWidgets": {},
     "nuid": "25f5fa52-8c12-45fb-bbaa-c22b8c354241",
     "showTitle": false,
     "tableResultSettingsMap": {},
     "title": ""
    }
   },
   "outputs": [],
   "source": [
    "SELECT _metadata.file_name FROM students GROUP BY _metadata.file_name;"
   ]
  },
  {
   "cell_type": "markdown",
   "metadata": {
    "application/vnd.databricks.v1+cell": {
     "cellMetadata": {},
     "inputWidgets": {},
     "nuid": "99351afa-a9e3-4731-bae4-8c743f84a578",
     "showTitle": false,
     "tableResultSettingsMap": {},
     "title": ""
    }
   },
   "source": [
    "**`DESCRIBE DETAIL`** コマンドの結果と同じく現在有効なファイルは１つであることが確認できます。"
   ]
  },
  {
   "cell_type": "markdown",
   "metadata": {
    "application/vnd.databricks.v1+cell": {
     "cellMetadata": {},
     "inputWidgets": {},
     "nuid": "2e4fd6df-b472-48d8-be5b-b4c25f3d3fdd",
     "showTitle": false,
     "tableResultSettingsMap": {},
     "title": ""
    }
   },
   "source": [
    "## データファイルの最適化によるクエリパフォーマンス向上（OPTIMIZE）\n",
    "\n",
    "データファイルはさまざまな理由で作成されます。\n",
    "\n",
    "例えば３つの INSERT トランザクションを実行し作成されるデータファイルを確認してみましょう。"
   ]
  },
  {
   "cell_type": "code",
   "execution_count": 0,
   "metadata": {
    "application/vnd.databricks.v1+cell": {
     "cellMetadata": {
      "byteLimit": 2048000,
      "rowLimit": 10000
     },
     "inputWidgets": {},
     "nuid": "b822d28e-288d-4bee-802f-02427d7c6b10",
     "showTitle": false,
     "tableResultSettingsMap": {},
     "title": ""
    }
   },
   "outputs": [],
   "source": [
    "INSERT INTO students VALUES (11, \"oota\", 1.1);\n",
    "INSERT INTO students VALUES (12, \"tomo\", 2.2);\n",
    "INSERT INTO students VALUES (13, \"yuki\", 3.3);\n",
    "\n",
    "SELECT _metadata.file_name, * FROM students;"
   ]
  },
  {
   "cell_type": "markdown",
   "metadata": {
    "application/vnd.databricks.v1+cell": {
     "cellMetadata": {},
     "inputWidgets": {},
     "nuid": "52aba747-5d0c-4f5c-8f1f-9b81dc0a3715",
     "showTitle": false,
     "tableResultSettingsMap": {},
     "title": ""
    }
   },
   "source": [
    "GROUP BY で現在有効なファイルを確認すると３つのデータファイルが追加されたことが確認できます。"
   ]
  },
  {
   "cell_type": "code",
   "execution_count": 0,
   "metadata": {
    "application/vnd.databricks.v1+cell": {
     "cellMetadata": {
      "byteLimit": 2048000,
      "rowLimit": 10000
     },
     "inputWidgets": {},
     "nuid": "32033e50-f17e-47d4-8325-0721d4d0c815",
     "showTitle": false,
     "tableResultSettingsMap": {},
     "title": ""
    }
   },
   "outputs": [],
   "source": [
    "SELECT _metadata.file_name FROM students GROUP BY _metadata.file_name;"
   ]
  },
  {
   "cell_type": "markdown",
   "metadata": {
    "application/vnd.databricks.v1+cell": {
     "cellMetadata": {},
     "inputWidgets": {},
     "nuid": "77579b61-9668-4223-8888-c25683b87b1e",
     "showTitle": false,
     "tableResultSettingsMap": {},
     "title": ""
    }
   },
   "source": [
    "このように小さなファイルが大量にある状況は Spark エンジンでの性能において望ましくない状況です。\n",
    "\n",
    "この状況をメンテナンスするのが **`OPTIMIZE`** コマンドです。\n",
    "\n",
    "**`OPTIMIZE`** コマンドは対象の Delta Table 内の大量の小さいなファイルを少量の大きなファイルへパッキングすることでのちのクエリパフォーマンスを向上させます。\n"
   ]
  },
  {
   "cell_type": "code",
   "execution_count": 0,
   "metadata": {
    "application/vnd.databricks.v1+cell": {
     "cellMetadata": {
      "byteLimit": 2048000,
      "rowLimit": 10000
     },
     "inputWidgets": {},
     "nuid": "4764da55-a8a9-4826-9e0e-51355a29b97f",
     "showTitle": false,
     "tableResultSettingsMap": {},
     "title": ""
    }
   },
   "outputs": [],
   "source": [
    "OPTIMIZE students;"
   ]
  },
  {
   "cell_type": "markdown",
   "metadata": {
    "application/vnd.databricks.v1+cell": {
     "cellMetadata": {},
     "inputWidgets": {},
     "nuid": "97bc58e9-adf0-450b-9e90-b7f57be87b4d",
     "showTitle": false,
     "tableResultSettingsMap": {},
     "title": ""
    }
   },
   "source": [
    "現在のバージョンで有効なデータファイル数を確認してみましょう。\n",
    "\n",
    "４つのデータファイルが１つのデータファイルにパッキングされていることがわかるはずです。"
   ]
  },
  {
   "cell_type": "code",
   "execution_count": 0,
   "metadata": {
    "application/vnd.databricks.v1+cell": {
     "cellMetadata": {
      "byteLimit": 2048000,
      "rowLimit": 10000
     },
     "inputWidgets": {},
     "nuid": "f25bc5f2-cd35-44b8-a424-7ad8a86c0aae",
     "showTitle": false,
     "tableResultSettingsMap": {},
     "title": ""
    }
   },
   "outputs": [],
   "source": [
    "SELECT _metadata.file_name FROM students GROUP BY _metadata.file_name;"
   ]
  },
  {
   "cell_type": "markdown",
   "metadata": {
    "application/vnd.databricks.v1+cell": {
     "cellMetadata": {},
     "inputWidgets": {},
     "nuid": "3e7eed3f-fec7-4723-8091-cb891522159a",
     "showTitle": false,
     "tableResultSettingsMap": {},
     "title": ""
    }
   },
   "source": [
    "最後にあらためてトランザクション履歴を見てみましょう。\n",
    "\n",
    "**`OPTIMIZE`** コマンド自体もひとつのトランザクションであることがわかります。"
   ]
  },
  {
   "cell_type": "code",
   "execution_count": 0,
   "metadata": {
    "application/vnd.databricks.v1+cell": {
     "cellMetadata": {
      "byteLimit": 2048000,
      "rowLimit": 10000
     },
     "inputWidgets": {},
     "nuid": "c523edc2-3b5a-4fb2-855e-8a2ee48a2008",
     "showTitle": false,
     "tableResultSettingsMap": {},
     "title": ""
    }
   },
   "outputs": [],
   "source": [
    "DESCRIBE HISTORY students;"
   ]
  },
  {
   "cell_type": "markdown",
   "metadata": {
    "application/vnd.databricks.v1+cell": {
     "cellMetadata": {},
     "inputWidgets": {},
     "nuid": "2afe0002-4928-4bd8-ae84-cb5b2a8eb1dd",
     "showTitle": false,
     "tableResultSettingsMap": {},
     "title": ""
    }
   },
   "source": [
    "## トランザクションログファイルの深堀\n",
    "データファイルの深堀で確認した通り最新バージョンで有効なデータファイル合計数に比較して Delta Table のディレクトリ配下のデータファイル合計数は大きくなっていました。\n",
    "\n",
    "それは Delta Table は変更されたデータを含むファイルは直ちに削除することはせず履歴として保持されるためです。これによりトランザクションログを使用したテーブルの任意時点のスナップショット参照を実現しています。\n",
    "\n",
    "例として **`MERGE`** ステートメントに対応するトランザクションログを見てみましょう。"
   ]
  },
  {
   "cell_type": "code",
   "execution_count": 0,
   "metadata": {
    "application/vnd.databricks.v1+cell": {
     "cellMetadata": {
      "byteLimit": 2048000,
      "rowLimit": 10000
     },
     "inputWidgets": {},
     "nuid": "653a4f85-7d5c-48d4-a660-2d557b0f4b12",
     "showTitle": false,
     "tableResultSettingsMap": {},
     "title": ""
    }
   },
   "outputs": [],
   "source": [
    "%python\n",
    "display(spark.sql(f\"SELECT * FROM json.`{tbl_location}/_delta_log/00000000000000000008.json`\"))"
   ]
  },
  {
   "cell_type": "markdown",
   "metadata": {
    "application/vnd.databricks.v1+cell": {
     "cellMetadata": {},
     "inputWidgets": {},
     "nuid": "df5da233-31f9-4ea2-bb01-98d84373861f",
     "showTitle": false,
     "tableResultSettingsMap": {},
     "title": ""
    }
   },
   "source": [
    "**`add`** 列には、テーブルに書き込まれたすべての新しいファイルのリストが含まれています。\n",
    "\n",
    "**`remove`** 列はこの時点でテーブルに含まれるべきでなくなったファイルを示しています。\n",
    "\n",
    "Delta Table クエリするとクエリエンジンはトランザクションログを使用し現在のバージョンで有効なすべてのファイルを識別し他のすべてのデータファイルを無視して結果を返却します。"
   ]
  },
  {
   "cell_type": "markdown",
   "metadata": {
    "application/vnd.databricks.v1+cell": {
     "cellMetadata": {},
     "inputWidgets": {},
     "nuid": "8f7c805e-ca52-457c-a8f0-9e34c4f593ed",
     "showTitle": false,
     "tableResultSettingsMap": {},
     "title": ""
    }
   },
   "source": [
    "## データのタイムトラベル（TIMESTAMP/VERSION AS OF）"
   ]
  },
  {
   "cell_type": "markdown",
   "metadata": {
    "application/vnd.databricks.v1+cell": {
     "cellMetadata": {},
     "inputWidgets": {},
     "nuid": "2fe9ab16-591e-497f-aae3-7c6431fb740f",
     "showTitle": false,
     "tableResultSettingsMap": {},
     "title": ""
    }
   },
   "source": [
    "繰り返しになりますが、最新バージョンで有効なデータファイルではない古いデータファイルが残っている理由は履歴として保持するためでトランザクションログを使用することでテーブルの任意時点のスナップショットを参照することができます。\n",
    "\n",
    "任意時点のスナップショットを参照をタイムトラベルとよび **`TIMESTAMP AS OF`** または **`VERSION AS OF`** によってクエリします。\n",
    "\n",
    "ここでは例として バージョン３ 時点のスナップショットを参照してみます。"
   ]
  },
  {
   "cell_type": "code",
   "execution_count": 0,
   "metadata": {
    "application/vnd.databricks.v1+cell": {
     "cellMetadata": {
      "byteLimit": 2048000,
      "rowLimit": 10000
     },
     "inputWidgets": {},
     "nuid": "3402dbae-4010-4d57-b039-f3ba5af7a929",
     "showTitle": false,
     "tableResultSettingsMap": {},
     "title": ""
    }
   },
   "outputs": [],
   "source": [
    "SELECT * FROM students VERSION AS OF 3 ORDER BY id;"
   ]
  },
  {
   "cell_type": "markdown",
   "metadata": {
    "application/vnd.databricks.v1+cell": {
     "cellMetadata": {},
     "inputWidgets": {},
     "nuid": "0e3e76af-7ad7-437f-92cf-7a0bbce0ea33",
     "showTitle": false,
     "tableResultSettingsMap": {},
     "title": ""
    }
   },
   "source": [
    "## データの復元（RESTORE）\n",
    "\n",
    "タイムトラベルを利用することでテーブルの任意時点のスナップショットを最新バージョンとして復元することも可能です。\n",
    "\n",
    "例えばオペレーションミスによって全レコードを削除してしまったことを仮定してみましょう。"
   ]
  },
  {
   "cell_type": "code",
   "execution_count": 0,
   "metadata": {
    "application/vnd.databricks.v1+cell": {
     "cellMetadata": {
      "byteLimit": 2048000,
      "rowLimit": 10000
     },
     "inputWidgets": {},
     "nuid": "c325ca59-5099-49f9-8939-8bde3143f93b",
     "showTitle": false,
     "tableResultSettingsMap": {},
     "title": ""
    }
   },
   "outputs": [],
   "source": [
    "DELETE FROM students;\n",
    "\n",
    "SELECT * FROM students;"
   ]
  },
  {
   "cell_type": "markdown",
   "metadata": {
    "application/vnd.databricks.v1+cell": {
     "cellMetadata": {},
     "inputWidgets": {},
     "nuid": "1918081b-785b-4c8d-9008-557e982e3af1",
     "showTitle": false,
     "tableResultSettingsMap": {},
     "title": ""
    }
   },
   "source": [
    "意図せず全レコードが削除され最新バージョンは空のテーブルになってしまいました。\n",
    "\n",
    "これをテーブルの任意時点のスナップショットで復元するには **`RESTORE`** コマンドを利用します。"
   ]
  },
  {
   "cell_type": "code",
   "execution_count": 0,
   "metadata": {
    "application/vnd.databricks.v1+cell": {
     "cellMetadata": {
      "byteLimit": 2048000,
      "rowLimit": 10000
     },
     "inputWidgets": {},
     "nuid": "5b21f84e-fcaa-4e42-b15b-797f5e027154",
     "showTitle": false,
     "tableResultSettingsMap": {},
     "title": ""
    }
   },
   "outputs": [],
   "source": [
    "DESCRIBE HISTORY students;"
   ]
  },
  {
   "cell_type": "markdown",
   "metadata": {
    "application/vnd.databricks.v1+cell": {
     "cellMetadata": {},
     "inputWidgets": {},
     "nuid": "2ca88985-7789-4c7c-b785-5eadc7f4df6a",
     "showTitle": false,
     "tableResultSettingsMap": {},
     "title": ""
    }
   },
   "source": [
    "トランザクション履歴を確認し DELETE の直前のバージョンに戻します。"
   ]
  },
  {
   "cell_type": "code",
   "execution_count": 0,
   "metadata": {
    "application/vnd.databricks.v1+cell": {
     "cellMetadata": {
      "byteLimit": 2048000,
      "rowLimit": 10000
     },
     "inputWidgets": {},
     "nuid": "d9433146-1548-447c-a231-51749abcc47b",
     "showTitle": false,
     "tableResultSettingsMap": {},
     "title": ""
    }
   },
   "outputs": [],
   "source": [
    "RESTORE TABLE students TO VERSION AS OF 13;\n",
    "\n",
    "SELECT * FROM students ORDER BY id;"
   ]
  },
  {
   "cell_type": "markdown",
   "metadata": {
    "application/vnd.databricks.v1+cell": {
     "cellMetadata": {},
     "inputWidgets": {},
     "nuid": "745c8890-b797-4695-88a5-7c27cb851022",
     "showTitle": false,
     "tableResultSettingsMap": {},
     "title": ""
    }
   },
   "source": [
    "**`RESTORE`** 自体もトランザクションとして記録されます。"
   ]
  },
  {
   "cell_type": "code",
   "execution_count": 0,
   "metadata": {
    "application/vnd.databricks.v1+cell": {
     "cellMetadata": {
      "byteLimit": 2048000,
      "rowLimit": 10000
     },
     "inputWidgets": {},
     "nuid": "a7b727ad-eab0-4e6b-9057-7a751ec5176f",
     "showTitle": false,
     "tableResultSettingsMap": {},
     "title": ""
    }
   },
   "outputs": [],
   "source": [
    "DESCRIBE HISTORY students;"
   ]
  },
  {
   "cell_type": "markdown",
   "metadata": {
    "application/vnd.databricks.v1+cell": {
     "cellMetadata": {},
     "inputWidgets": {},
     "nuid": "df05dc40-a973-456c-a71e-bf275bf302d9",
     "showTitle": false,
     "tableResultSettingsMap": {},
     "title": ""
    }
   },
   "source": [
    "テーブルのすべてのレコードを誤って削除した事実は残しつつ操作を元に戻し、テーブルを望ましい状態に戻すことができました。"
   ]
  },
  {
   "cell_type": "markdown",
   "metadata": {
    "application/vnd.databricks.v1+cell": {
     "cellMetadata": {},
     "inputWidgets": {},
     "nuid": "78991492-dccd-4586-aba5-78bc6fcbf810",
     "showTitle": false,
     "tableResultSettingsMap": {},
     "title": ""
    }
   },
   "source": [
    "## 古いデータファイルのクリーンアップ（VACUUM）\n",
    "\n",
    "古いデータファイルは履歴としていつまで保持されるのでしょうか？\n",
    "\n",
    "古いデータファイルの削除は **`VACUUM`** コマンドによって処理します。\n",
    "\n",
    "**`VACUUM`** コマンドの実行は明示的に実行する もしくは 予測最適化機能を利用した自動実行 の選択肢があります。\n",
    "\n",
    "**古さ（保持期間）** は `delta.deletedFileRetentionDuration` で設定する閾値で判定されます。既定値は７日でそれよりも古いファイルが削除の対象になります。\n",
    "\n",
    "この保持期間はVACUUM 実行時のオプションで保持期間をオーバーライド可能ですが `delta.deletedFileRetentionDuration` よりも下回る指定がなされた場合はガードレールによりエラーとなります。\n",
    "\n",
    "以下のコメントアウトを外し実行しガードレールが機能することを確認してみましょう。"
   ]
  },
  {
   "cell_type": "code",
   "execution_count": 0,
   "metadata": {
    "application/vnd.databricks.v1+cell": {
     "cellMetadata": {
      "byteLimit": 2048000,
      "rowLimit": 10000
     },
     "inputWidgets": {},
     "nuid": "7c836372-58db-4b85-91d8-dc1f4472d18c",
     "showTitle": false,
     "tableResultSettingsMap": {},
     "title": ""
    }
   },
   "outputs": [],
   "source": [
    "-- VACUUM students RETAIN 0 HOURS;"
   ]
  },
  {
   "cell_type": "markdown",
   "metadata": {
    "application/vnd.databricks.v1+cell": {
     "cellMetadata": {},
     "inputWidgets": {},
     "nuid": "1b72d255-a90d-428c-94a3-fea43bd22164",
     "showTitle": false,
     "tableResultSettingsMap": {},
     "title": ""
    }
   },
   "source": [
    "ここではデモとして保持期間なしを意味する **`0 HOURS`** を `delta.deletedFileRetentionDuration` に設定することでガードレールを無効化します。本番運用では必ずガードレールを構成してください。"
   ]
  },
  {
   "cell_type": "code",
   "execution_count": 0,
   "metadata": {
    "application/vnd.databricks.v1+cell": {
     "cellMetadata": {
      "byteLimit": 2048000,
      "rowLimit": 10000
     },
     "inputWidgets": {},
     "nuid": "b2c17300-a3e4-434e-a576-4a89432d3bb7",
     "showTitle": false,
     "tableResultSettingsMap": {},
     "title": ""
    }
   },
   "outputs": [],
   "source": [
    "ALTER TABLE students SET TBLPROPERTIES ('delta.deletedFileRetentionDuration' = '0 HOURS');"
   ]
  },
  {
   "cell_type": "markdown",
   "metadata": {
    "application/vnd.databricks.v1+cell": {
     "cellMetadata": {},
     "inputWidgets": {},
     "nuid": "832fb515-66b9-471b-901a-5d170f29cb43",
     "showTitle": false,
     "tableResultSettingsMap": {},
     "title": ""
    }
   },
   "source": [
    "VACUUM は DRY RUN オプションにより実際に削除されるファイルを事前に確認することが可能です（実際の削除は実行されません）。"
   ]
  },
  {
   "cell_type": "code",
   "execution_count": 0,
   "metadata": {
    "application/vnd.databricks.v1+cell": {
     "cellMetadata": {
      "byteLimit": 2048000,
      "rowLimit": 10000
     },
     "inputWidgets": {},
     "nuid": "ad636831-ecf2-4d35-b707-302e479523b7",
     "showTitle": false,
     "tableResultSettingsMap": {},
     "title": ""
    }
   },
   "outputs": [],
   "source": [
    "VACUUM students RETAIN 0 HOURS DRY RUN;"
   ]
  },
  {
   "cell_type": "markdown",
   "metadata": {
    "application/vnd.databricks.v1+cell": {
     "cellMetadata": {},
     "inputWidgets": {},
     "nuid": "3d170cb5-0c70-4198-bfac-c206f21c98fd",
     "showTitle": false,
     "tableResultSettingsMap": {},
     "title": ""
    }
   },
   "source": [
    "現在のデータファイルも確認しておきましょう。"
   ]
  },
  {
   "cell_type": "code",
   "execution_count": 0,
   "metadata": {
    "application/vnd.databricks.v1+cell": {
     "cellMetadata": {
      "byteLimit": 2048000,
      "rowLimit": 10000
     },
     "inputWidgets": {},
     "nuid": "4a3601fa-3b19-42c4-8d8e-b0077ad97892",
     "showTitle": false,
     "tableResultSettingsMap": {},
     "title": ""
    }
   },
   "outputs": [],
   "source": [
    "%python\n",
    "tbl_location = spark.sql(\"DESCRIBE DETAIL students\").first().location\n",
    "data_files = dbutils.fs.ls(tbl_location)\n",
    "display(data_files)"
   ]
  },
  {
   "cell_type": "markdown",
   "metadata": {
    "application/vnd.databricks.v1+cell": {
     "cellMetadata": {},
     "inputWidgets": {},
     "nuid": "7214b123-6d43-4b8c-aa97-c6c196fe7801",
     "showTitle": false,
     "tableResultSettingsMap": {},
     "title": ""
    }
   },
   "source": [
    "それでは **`VACUUM`** を実行し古いデータファイルをクリーンアップしましょう。 "
   ]
  },
  {
   "cell_type": "code",
   "execution_count": 0,
   "metadata": {
    "application/vnd.databricks.v1+cell": {
     "cellMetadata": {
      "byteLimit": 2048000,
      "rowLimit": 10000
     },
     "inputWidgets": {},
     "nuid": "398a8d28-d80f-4c37-a54a-b4a8f35c504e",
     "showTitle": false,
     "tableResultSettingsMap": {},
     "title": ""
    }
   },
   "outputs": [],
   "source": [
    "VACUUM students RETAIN 0 HOURS;"
   ]
  },
  {
   "cell_type": "markdown",
   "metadata": {
    "application/vnd.databricks.v1+cell": {
     "cellMetadata": {},
     "inputWidgets": {},
     "nuid": "1d993ec2-f19a-44a6-a229-3271f38c11a6",
     "showTitle": false,
     "tableResultSettingsMap": {},
     "title": ""
    }
   },
   "source": [
    "あらためて現在のデータファイルを確認します。最新バージョンとして有効な１つのデータファイルだけが残っていることが確認できるはずです。"
   ]
  },
  {
   "cell_type": "code",
   "execution_count": 0,
   "metadata": {
    "application/vnd.databricks.v1+cell": {
     "cellMetadata": {
      "byteLimit": 2048000,
      "rowLimit": 10000
     },
     "inputWidgets": {},
     "nuid": "ba8fe660-16e5-413e-9226-ba3c9210b110",
     "showTitle": false,
     "tableResultSettingsMap": {},
     "title": ""
    }
   },
   "outputs": [],
   "source": [
    "%python\n",
    "tbl_location = spark.sql(\"DESCRIBE DETAIL students\").first().location\n",
    "data_files = dbutils.fs.ls(tbl_location)\n",
    "display(data_files)"
   ]
  },
  {
   "cell_type": "markdown",
   "metadata": {
    "application/vnd.databricks.v1+cell": {
     "cellMetadata": {},
     "inputWidgets": {},
     "nuid": "e624b5ca-c90d-49d8-a7c0-0d296c21360e",
     "showTitle": false,
     "tableResultSettingsMap": {},
     "title": ""
    }
   },
   "source": [
    "トランザクション履歴を確認すると VACUUM 自体もトランザクションとして管理されていることがわかります。"
   ]
  },
  {
   "cell_type": "code",
   "execution_count": 0,
   "metadata": {
    "application/vnd.databricks.v1+cell": {
     "cellMetadata": {
      "byteLimit": 2048000,
      "rowLimit": 10000
     },
     "inputWidgets": {},
     "nuid": "dec99eb5-2257-4de2-9529-e02f9ebabe90",
     "showTitle": false,
     "tableResultSettingsMap": {},
     "title": ""
    }
   },
   "outputs": [],
   "source": [
    "DESCRIBE HISTORY students;"
   ]
  },
  {
   "cell_type": "markdown",
   "metadata": {
    "application/vnd.databricks.v1+cell": {
     "cellMetadata": {},
     "inputWidgets": {},
     "nuid": "9cfa0838-9860-45b0-b6a5-f5443fa3a011",
     "showTitle": false,
     "tableResultSettingsMap": {},
     "title": ""
    }
   },
   "source": [
    "トランザクション履歴は残っていますが VACUUM によって削除された古いファイルを参照するバージョンを復元することはできなくなります。\n",
    "\n",
    "**留意** ：結果が返ってくる場合はキャッシュが効いている可能性があります。時間に余裕があるときにクラスタを再起動したのちに再度確認してみてください。 "
   ]
  },
  {
   "cell_type": "code",
   "execution_count": 0,
   "metadata": {
    "application/vnd.databricks.v1+cell": {
     "cellMetadata": {
      "byteLimit": 2048000,
      "rowLimit": 10000
     },
     "inputWidgets": {},
     "nuid": "2cff88c1-2a3f-4dd3-89c2-28d334611c1c",
     "showTitle": false,
     "tableResultSettingsMap": {},
     "title": ""
    }
   },
   "outputs": [],
   "source": [
    "-- SELECT * FROM students VERSION AS OF 9 ORDER BY id;"
   ]
  },
  {
   "cell_type": "code",
   "execution_count": 0,
   "metadata": {
    "application/vnd.databricks.v1+cell": {
     "cellMetadata": {
      "byteLimit": 2048000,
      "rowLimit": 10000
     },
     "inputWidgets": {},
     "nuid": "fc476fd9-74e0-4f67-8d32-ababd666dcbc",
     "showTitle": false,
     "tableResultSettingsMap": {},
     "title": ""
    }
   },
   "outputs": [],
   "source": [
    "-- SELECT * FROM parquet.`dbfs:/user/hive/warehouse/handson_tico_demo01_schema.db/students/_delta_log/00000000000000000016.checkpoint.parquet`;"
   ]
  },
  {
   "cell_type": "markdown",
   "metadata": {
    "application/vnd.databricks.v1+cell": {
     "cellMetadata": {},
     "inputWidgets": {},
     "nuid": "5a9035c0-b49a-4535-b59f-52c0b2a5b2b6",
     "showTitle": false,
     "tableResultSettingsMap": {},
     "title": ""
    }
   },
   "source": [
    "## 非 Delta Table\n",
    "\n",
    "非 Delta Tableについても同様に構造や挙動を簡単に見て Delta Lake との違いを確認してみましょう。\n",
    "\n",
    "\n",
    "\n",
    "テーブル作成時の **`USING`** により以下のフォーマットを選択できます。既定は Delta です。\n",
    "\n",
    "- AVRO\n",
    "- BINARYFILE\n",
    "- CSV\n",
    "- DELTA（既定）\n",
    "- JSON\n",
    "- ORC\n",
    "- PARQUET\n",
    "- TEXT\n",
    "\n",
    "**参考** ：[CREATE TABLE [USING]](https://learn.microsoft.com/ja-jp/azure/databricks/sql/language-manual/sql-ref-syntax-ddl-create-table-using)"
   ]
  },
  {
   "cell_type": "markdown",
   "metadata": {
    "application/vnd.databricks.v1+cell": {
     "cellMetadata": {},
     "inputWidgets": {},
     "nuid": "9fb0d95f-7d07-4b91-a2c2-a69d4847cd4d",
     "showTitle": false,
     "tableResultSettingsMap": {},
     "title": ""
    }
   },
   "source": [
    "ここでは CSV と Parquet で作成してみましょう。"
   ]
  },
  {
   "cell_type": "code",
   "execution_count": 0,
   "metadata": {
    "application/vnd.databricks.v1+cell": {
     "cellMetadata": {
      "byteLimit": 2048000,
      "rowLimit": 10000
     },
     "inputWidgets": {},
     "nuid": "2bf8a73a-592b-449e-ba9d-aca69a33fa30",
     "showTitle": false,
     "tableResultSettingsMap": {},
     "title": ""
    }
   },
   "outputs": [],
   "source": [
    "DROP TABLE IF EXISTS csv_table;\n",
    "CREATE TABLE csv_table (id int, name string) USING csv;\n",
    "INSERT INTO csv_table VALUES (1, \"LAND CRUISER 70\"), (2, \"LAND CRUISER 250\");\n",
    "SELECT * FROM csv_table ORDER BY id;"
   ]
  },
  {
   "cell_type": "code",
   "execution_count": 0,
   "metadata": {
    "application/vnd.databricks.v1+cell": {
     "cellMetadata": {
      "byteLimit": 2048000,
      "rowLimit": 10000
     },
     "inputWidgets": {},
     "nuid": "df1c77f0-9a7c-4f9b-865e-397177613402",
     "showTitle": false,
     "tableResultSettingsMap": {},
     "title": ""
    }
   },
   "outputs": [],
   "source": [
    "DROP TABLE IF EXISTS parquet_table;\n",
    "CREATE TABLE parquet_table (id int, name string) USING parquet;\n",
    "INSERT INTO parquet_table VALUES (1, \"1VD-FTV\"), (2, \"1GD-FTV\");\n",
    "SELECT * FROM parquet_table ORDER BY id;"
   ]
  },
  {
   "cell_type": "markdown",
   "metadata": {
    "application/vnd.databricks.v1+cell": {
     "cellMetadata": {},
     "inputWidgets": {},
     "nuid": "298f6708-a72c-411c-afdb-d53710d9f13f",
     "showTitle": false,
     "tableResultSettingsMap": {},
     "title": ""
    }
   },
   "source": [
    "テーブルのメタデータからテーブルのフォーマットを確認してみましょう。"
   ]
  },
  {
   "cell_type": "code",
   "execution_count": 0,
   "metadata": {
    "application/vnd.databricks.v1+cell": {
     "cellMetadata": {
      "byteLimit": 2048000,
      "rowLimit": 10000
     },
     "inputWidgets": {},
     "nuid": "d6505ec1-ca09-4910-a063-523accc25d95",
     "showTitle": false,
     "tableResultSettingsMap": {},
     "title": ""
    }
   },
   "outputs": [],
   "source": [
    "DESCRIBE EXTENDED csv_table;"
   ]
  },
  {
   "cell_type": "code",
   "execution_count": 0,
   "metadata": {
    "application/vnd.databricks.v1+cell": {
     "cellMetadata": {
      "byteLimit": 2048000,
      "rowLimit": 10000
     },
     "inputWidgets": {},
     "nuid": "6fa3d6a5-3d20-4aa1-a077-3e2fdc9644de",
     "showTitle": false,
     "tableResultSettingsMap": {},
     "title": ""
    }
   },
   "outputs": [],
   "source": [
    "DESCRIBE EXTENDED parquet_table;"
   ]
  },
  {
   "cell_type": "markdown",
   "metadata": {
    "application/vnd.databricks.v1+cell": {
     "cellMetadata": {},
     "inputWidgets": {},
     "nuid": "b9073ffa-32b1-4d99-ae56-472d5e5589c9",
     "showTitle": false,
     "tableResultSettingsMap": {},
     "title": ""
    }
   },
   "source": [
    "テーブルのファイル構造も確認してみましょう。\n",
    "\n",
    "Delta Lake と異なりトランザクションログ（ **`_delta_log`** ディレクトリ）が存在しないことがわかります。"
   ]
  },
  {
   "cell_type": "code",
   "execution_count": 0,
   "metadata": {
    "application/vnd.databricks.v1+cell": {
     "cellMetadata": {
      "byteLimit": 2048000,
      "rowLimit": 10000
     },
     "inputWidgets": {},
     "nuid": "259b48d3-0eea-4fe6-88e2-59884d267ac4",
     "showTitle": false,
     "tableResultSettingsMap": {},
     "title": ""
    }
   },
   "outputs": [],
   "source": [
    "%python\n",
    "tbl_location = spark.sql(\"DESCRIBE DETAIL csv_table\").first().location\n",
    "data_files = dbutils.fs.ls(tbl_location)\n",
    "display(data_files)"
   ]
  },
  {
   "cell_type": "code",
   "execution_count": 0,
   "metadata": {
    "application/vnd.databricks.v1+cell": {
     "cellMetadata": {
      "byteLimit": 2048000,
      "rowLimit": 10000
     },
     "inputWidgets": {},
     "nuid": "3a52a025-e5b7-4a33-badb-2bff11d2541f",
     "showTitle": false,
     "tableResultSettingsMap": {},
     "title": ""
    }
   },
   "outputs": [],
   "source": [
    "%python\n",
    "tbl_location = spark.sql(\"DESCRIBE DETAIL parquet_table\").first().location\n",
    "data_files = dbutils.fs.ls(tbl_location)\n",
    "display(data_files)"
   ]
  },
  {
   "cell_type": "markdown",
   "metadata": {
    "application/vnd.databricks.v1+cell": {
     "cellMetadata": {},
     "inputWidgets": {},
     "nuid": "79e693de-e727-401d-8722-68162d49a406",
     "showTitle": false,
     "tableResultSettingsMap": {},
     "title": ""
    }
   },
   "source": [
    "非 Delta Table に対しては追記（INSERT）のみ可能です。"
   ]
  },
  {
   "cell_type": "code",
   "execution_count": 0,
   "metadata": {
    "application/vnd.databricks.v1+cell": {
     "cellMetadata": {
      "byteLimit": 2048000,
      "rowLimit": 10000
     },
     "inputWidgets": {},
     "nuid": "88512f91-b525-479f-9edc-59755a4e0104",
     "showTitle": false,
     "tableResultSettingsMap": {},
     "title": ""
    }
   },
   "outputs": [],
   "source": [
    "INSERT INTO csv_table VALUES (3, \"LAND CRUISER 300\");\n",
    "SELECT * FROM csv_table ORDER BY id;"
   ]
  },
  {
   "cell_type": "code",
   "execution_count": 0,
   "metadata": {
    "application/vnd.databricks.v1+cell": {
     "cellMetadata": {
      "byteLimit": 2048000,
      "rowLimit": 10000
     },
     "inputWidgets": {},
     "nuid": "d97581c5-0e89-443b-b5e4-390ff5d7bde6",
     "showTitle": false,
     "tableResultSettingsMap": {},
     "title": ""
    }
   },
   "outputs": [],
   "source": [
    "INSERT INTO parquet_table VALUES (3, \"F33A-FTV\");\n",
    "SELECT * FROM parquet_table ORDER BY id;"
   ]
  },
  {
   "cell_type": "markdown",
   "metadata": {
    "application/vnd.databricks.v1+cell": {
     "cellMetadata": {},
     "inputWidgets": {},
     "nuid": "a405ac33-b9c1-4a33-a9c3-723a4e1d8aac",
     "showTitle": false,
     "tableResultSettingsMap": {},
     "title": ""
    }
   },
   "source": [
    "UPDATE や DELETE など変更操作はサポートされません。"
   ]
  },
  {
   "cell_type": "code",
   "execution_count": 0,
   "metadata": {
    "application/vnd.databricks.v1+cell": {
     "cellMetadata": {
      "byteLimit": 2048000,
      "rowLimit": 10000
     },
     "inputWidgets": {},
     "nuid": "19b848e8-9801-4e76-b98c-3b58c1a7d289",
     "showTitle": false,
     "tableResultSettingsMap": {},
     "title": ""
    }
   },
   "outputs": [],
   "source": [
    "-- UPDATE parquet_table SET name = \"F33A-FTV\" WHERE id = 2;\n",
    "-- DELETE FROM parquet_table WHERE id = 3;"
   ]
  },
  {
   "cell_type": "markdown",
   "metadata": {
    "application/vnd.databricks.v1+cell": {
     "cellMetadata": {},
     "inputWidgets": {},
     "nuid": "0199b8d2-c400-4056-9e3d-b1b8732178ba",
     "showTitle": false,
     "tableResultSettingsMap": {},
     "title": ""
    }
   },
   "source": [
    "トランザクションログも存在しないため履歴の確認やタイムトラベル、リストアもサポートされません。"
   ]
  },
  {
   "cell_type": "code",
   "execution_count": 0,
   "metadata": {
    "application/vnd.databricks.v1+cell": {
     "cellMetadata": {
      "byteLimit": 2048000,
      "rowLimit": 10000
     },
     "inputWidgets": {},
     "nuid": "970440f5-780d-4679-a47b-4afbb4c8f384",
     "showTitle": false,
     "tableResultSettingsMap": {},
     "title": ""
    }
   },
   "outputs": [],
   "source": [
    "-- DESCRIBE HISTORY parquet_table;\n",
    "-- SELECT * FROM parquet_table VERSION AS OF 1 ORDER BY id;"
   ]
  },
  {
   "cell_type": "markdown",
   "metadata": {
    "application/vnd.databricks.v1+cell": {
     "cellMetadata": {},
     "inputWidgets": {},
     "nuid": "f1f91925-f047-4d6d-8464-c768b53de94f",
     "showTitle": false,
     "tableResultSettingsMap": {},
     "title": ""
    }
   },
   "source": [
    "# 2. テーブルの分類（マネージド or アンマネージド）"
   ]
  },
  {
   "cell_type": "markdown",
   "metadata": {
    "application/vnd.databricks.v1+cell": {
     "cellMetadata": {},
     "inputWidgets": {},
     "nuid": "8b02987a-6d23-4b6e-b727-6e627f9cbeb8",
     "showTitle": false,
     "tableResultSettingsMap": {},
     "title": ""
    }
   },
   "source": [
    "**はじめに**：学習観点のわかりやすさのため hive_metastore を利用するためにコンテキストを切り替えます"
   ]
  },
  {
   "cell_type": "code",
   "execution_count": 0,
   "metadata": {
    "application/vnd.databricks.v1+cell": {
     "cellMetadata": {
      "byteLimit": 2048000,
      "rowLimit": 10000
     },
     "inputWidgets": {},
     "nuid": "972648f1-ba33-44c2-ac7b-7d2f83ca3e4f",
     "showTitle": false,
     "tableResultSettingsMap": {},
     "title": ""
    }
   },
   "outputs": [],
   "source": [
    "USE CATALOG hive_metastore;\n",
    "CREATE SCHEMA IF NOT EXISTS ${your_schema};\n",
    "USE SCHEMA ${your_schema};"
   ]
  },
  {
   "cell_type": "markdown",
   "metadata": {
    "application/vnd.databricks.v1+cell": {
     "cellMetadata": {},
     "inputWidgets": {},
     "nuid": "2ed2b37f-44f2-4262-8374-bfabd61ef9f5",
     "showTitle": false,
     "tableResultSettingsMap": {},
     "title": ""
    }
   },
   "source": [
    "Databricks のテーブル種類を管理方法の視点で分類すると **マネージドテーブル** と **アンマネージドテーブル** に分類されます。\n",
    "\n",
    "**[マネージドテーブル](https://learn.microsoft.com/ja-jp/azure/databricks/tables/managed)**  \n",
    "- データの保存先が Databricks によって管理されるテーブルです。\n",
    "- 利用者はデータの保存先のストレージやパスを意識する必要はありません。\n",
    "- ストレージは管理者によって構成されますがパスは Databricks によって決められておりカスタムはできません。\n",
    "- マネージドテーブルを削除すると同時にデータも削除されます（[実際の削除はシステム側で30日以内に処理されます](https://learn.microsoft.com/ja-jp/azure/databricks/tables/managed#drop-a-managed-table)）。\n",
    "\n",
    "**[アンマネージドテーブル（外部テーブル）](https://learn.microsoft.com/ja-jp/azure/databricks/tables/external)**  \n",
    "- データの保存先のストレージやパスはテーブル定義時にユーザーが指定します。\n",
    "- Databricks 上でのアンマネージドテーブルの削除はメタデータの削除のみを指しストレージ上のデータ実体はそのまま残ります（削除する場合はストレージに対する直接操作として削除する必要があります）。\n",
    "\n",
    "**マネージドテーブル or アンマネージドテーブル（外部テーブル）**  \n",
    "- Databricks としての推奨かつ既定はマネージドテーブルです。\n",
    "- Databricks の利用者は本来 ストレージの場所 と パス を意識する必要がありませんが、アンマネージドテーブルはテーブルを作成する利用者に対してストレージの場所とパスを公開する必要があります。また該当のストレージに対しては Databricks（Unity Catalog）でのアクセス制御の管理外となるためガバナンス観点で望ましくありません。\n",
    "- 機能がフルサポートされるマネージドテーブルに対してアンマネージドテーブルについては一部機能がサポートされないもしくはサポートが遅れるケースがある点に留意が必要です。"
   ]
  },
  {
   "cell_type": "markdown",
   "metadata": {
    "application/vnd.databricks.v1+cell": {
     "cellMetadata": {},
     "inputWidgets": {},
     "nuid": "ac24c4ec-8774-4fe6-9796-10646bece1f6",
     "showTitle": false,
     "tableResultSettingsMap": {},
     "title": ""
    }
   },
   "source": [
    "## マネージドテーブル"
   ]
  },
  {
   "cell_type": "markdown",
   "metadata": {
    "application/vnd.databricks.v1+cell": {
     "cellMetadata": {},
     "inputWidgets": {},
     "nuid": "666e43f6-917f-4cc2-9b68-16566d8b04b7",
     "showTitle": false,
     "tableResultSettingsMap": {},
     "title": ""
    }
   },
   "source": [
    "マネージドテーブルを作成します。\n",
    "\n",
    "特にオプションを指定することなくテーブルを作成すると Delta フォーマットのマネージドテーブルが作成されます。"
   ]
  },
  {
   "cell_type": "code",
   "execution_count": 0,
   "metadata": {
    "application/vnd.databricks.v1+cell": {
     "cellMetadata": {
      "byteLimit": 2048000,
      "rowLimit": 10000
     },
     "inputWidgets": {},
     "nuid": "548331b9-2903-47d8-9a0c-068c1eb2e655",
     "showTitle": false,
     "tableResultSettingsMap": {},
     "title": ""
    }
   },
   "outputs": [],
   "source": [
    "CREATE OR REPLACE TABLE managed_table (width INT, length INT, height INT);\n",
    "\n",
    "INSERT INTO managed_table VALUES (3, 2, 1);\n",
    "\n",
    "SELECT * FROM managed_table;"
   ]
  },
  {
   "cell_type": "markdown",
   "metadata": {
    "application/vnd.databricks.v1+cell": {
     "cellMetadata": {},
     "inputWidgets": {},
     "nuid": "7c087400-d643-42e1-b446-7bfd03095c6b",
     "showTitle": false,
     "tableResultSettingsMap": {},
     "title": ""
    }
   },
   "source": [
    "テーブルのメタデータを確認してみましょう。\n",
    "\n",
    "- **`Type`** ：テーブルの種類が確認できます\n",
    "- **`Provider`** ：テーブルのフォーマットが確認できます\n",
    "- **`Location`** ：テーブルデータが格納されているストレージパスを確認できます（Databricks によって管理されたパス）"
   ]
  },
  {
   "cell_type": "code",
   "execution_count": 0,
   "metadata": {
    "application/vnd.databricks.v1+cell": {
     "cellMetadata": {
      "byteLimit": 2048000,
      "rowLimit": 10000
     },
     "inputWidgets": {},
     "nuid": "cae659b7-2134-40ff-b131-021628a0fd8a",
     "showTitle": false,
     "tableResultSettingsMap": {},
     "title": ""
    }
   },
   "outputs": [],
   "source": [
    "DESCRIBE EXTENDED managed_table;"
   ]
  },
  {
   "cell_type": "markdown",
   "metadata": {
    "application/vnd.databricks.v1+cell": {
     "cellMetadata": {},
     "inputWidgets": {},
     "nuid": "fef23e7c-70a9-41e2-a15b-68175dd23357",
     "showTitle": false,
     "tableResultSettingsMap": {},
     "title": ""
    }
   },
   "source": [
    "テーブルデータが格納されているストレージパスをリストしてみましょう。\n",
    "\n",
    "**注意** ：本来はストレージパスを意識する必要はなく直接アクセスは制限されるべきですが、レガシー（利用非推奨）である hive_metastore ではストレージパスのリストが可能です（後継の Unity Catalog ではサポートされない操作です）。"
   ]
  },
  {
   "cell_type": "code",
   "execution_count": 0,
   "metadata": {
    "application/vnd.databricks.v1+cell": {
     "cellMetadata": {
      "byteLimit": 2048000,
      "rowLimit": 10000
     },
     "inputWidgets": {},
     "nuid": "2e6fb1d1-ca43-4393-ae0e-695d206c89da",
     "showTitle": false,
     "tableResultSettingsMap": {},
     "title": ""
    }
   },
   "outputs": [],
   "source": [
    "%python \n",
    "tbl_location = spark.sql(\"DESCRIBE DETAIL managed_table\").first().location\n",
    "\n",
    "# マネージドディレクトリに対するリストコマンドの実行は Unity Catalog では未サポート\n",
    "files = dbutils.fs.ls(tbl_location)\n",
    "display(files)"
   ]
  },
  {
   "cell_type": "markdown",
   "metadata": {
    "application/vnd.databricks.v1+cell": {
     "cellMetadata": {},
     "inputWidgets": {},
     "nuid": "e6792a1b-7be7-4aa9-8432-34b7e1bb03fb",
     "showTitle": false,
     "tableResultSettingsMap": {},
     "title": ""
    }
   },
   "source": [
    "次にテーブルを削除し、ストレージパス上からテーブルに関連するデータも削除されることを確認してみましょう。"
   ]
  },
  {
   "cell_type": "code",
   "execution_count": 0,
   "metadata": {
    "application/vnd.databricks.v1+cell": {
     "cellMetadata": {
      "byteLimit": 2048000,
      "rowLimit": 10000
     },
     "inputWidgets": {},
     "nuid": "a753b0d2-6162-4fb1-8d09-3567973c63a8",
     "showTitle": false,
     "tableResultSettingsMap": {},
     "title": ""
    }
   },
   "outputs": [],
   "source": [
    "DROP TABLE managed_table;"
   ]
  },
  {
   "cell_type": "code",
   "execution_count": 0,
   "metadata": {
    "application/vnd.databricks.v1+cell": {
     "cellMetadata": {
      "byteLimit": 2048000,
      "rowLimit": 10000
     },
     "inputWidgets": {},
     "nuid": "870ca2e4-fafa-4f04-8b4e-439536f8ef93",
     "showTitle": false,
     "tableResultSettingsMap": {},
     "title": ""
    }
   },
   "outputs": [],
   "source": [
    "%python \n",
    "\n",
    "# マネージドディレクトリに対するリストコマンドの実行は Unity Catalog では未サポート\n",
    "files = dbutils.fs.ls(f\"dbfs:/user/hive/warehouse/{your_schema}.db/\")\n",
    "display(files)"
   ]
  },
  {
   "cell_type": "markdown",
   "metadata": {
    "application/vnd.databricks.v1+cell": {
     "cellMetadata": {},
     "inputWidgets": {},
     "nuid": "2445a637-7004-4761-a8be-d1e75c04997c",
     "showTitle": false,
     "tableResultSettingsMap": {},
     "title": ""
    }
   },
   "source": [
    "該当テーブルが格納されていた managed_table ディレクトリが削除されていることがわかります。 \n",
    "\n",
    "なお、Unity Catalog でのデータ削除のタイミングはテーブル削除から 30 日以内にシステム側で処理されます。  "
   ]
  },
  {
   "cell_type": "markdown",
   "metadata": {
    "application/vnd.databricks.v1+cell": {
     "cellMetadata": {},
     "inputWidgets": {},
     "nuid": "8608441c-a9c7-4b5d-8df2-484dbc2a172f",
     "showTitle": false,
     "tableResultSettingsMap": {},
     "title": ""
    }
   },
   "source": [
    "## アンマネージドテーブル（外部テーブル）\n",
    "\n",
    "次に外部テーブルを作成し同じ確認をしてみましょう。"
   ]
  },
  {
   "cell_type": "code",
   "execution_count": 0,
   "metadata": {
    "application/vnd.databricks.v1+cell": {
     "cellMetadata": {
      "byteLimit": 2048000,
      "rowLimit": 10000
     },
     "inputWidgets": {},
     "nuid": "6cf63b67-6cbe-4e24-81ed-b54770393573",
     "showTitle": false,
     "tableResultSettingsMap": {},
     "title": ""
    }
   },
   "outputs": [],
   "source": [
    "CREATE OR REPLACE TABLE unmanaged_table (width INT, length INT, height INT)\n",
    "   LOCATION \"dbfs:/user/hive/warehouse/${your_schema}.db/user_managed_path/unmanaged_table\";\n",
    "\n",
    "INSERT INTO unmanaged_table VALUES (3, 2, 1);\n",
    "\n",
    "SELECT * FROM unmanaged_table;"
   ]
  },
  {
   "cell_type": "markdown",
   "metadata": {
    "application/vnd.databricks.v1+cell": {
     "cellMetadata": {},
     "inputWidgets": {},
     "nuid": "4a3be5e9-558d-4503-9023-545a8212096d",
     "showTitle": false,
     "tableResultSettingsMap": {},
     "title": ""
    }
   },
   "source": [
    "テーブルのメタデータを確認してみましょう。\n",
    "\n",
    "- **`Type`** ：テーブルの種類が確認できます\n",
    "- **`Provider`** ：テーブルのフォーマットが確認できます\n",
    "- **`Location`** ：テーブルデータが格納されているストレージパスを確認できます（テーブル作成時にユーザーが指定した自由なパス）"
   ]
  },
  {
   "cell_type": "code",
   "execution_count": 0,
   "metadata": {
    "application/vnd.databricks.v1+cell": {
     "cellMetadata": {
      "byteLimit": 2048000,
      "rowLimit": 10000
     },
     "inputWidgets": {},
     "nuid": "b0d8554b-e150-43c2-b6d1-c4bdf15afeda",
     "showTitle": false,
     "tableResultSettingsMap": {},
     "title": ""
    }
   },
   "outputs": [],
   "source": [
    "DESCRIBE EXTENDED unmanaged_table;"
   ]
  },
  {
   "cell_type": "markdown",
   "metadata": {
    "application/vnd.databricks.v1+cell": {
     "cellMetadata": {},
     "inputWidgets": {},
     "nuid": "5b14e0a1-2db1-492e-b888-d64560fe5a57",
     "showTitle": false,
     "tableResultSettingsMap": {},
     "title": ""
    }
   },
   "source": [
    "テーブルデータが格納されているストレージパスをリストしてみましょう。\n",
    "\n",
    "**注意** ：本来はストレージパスを意識する必要はなく直接アクセスは制限されるべきですが、レガシー（利用非推奨）である hive_metastore ではストレージパスのリストが可能です（後継の Unity Catalog ではサポートされない操作です）。"
   ]
  },
  {
   "cell_type": "code",
   "execution_count": 0,
   "metadata": {
    "application/vnd.databricks.v1+cell": {
     "cellMetadata": {
      "byteLimit": 2048000,
      "rowLimit": 10000
     },
     "inputWidgets": {},
     "nuid": "279e0aa1-1b04-477f-aa3a-d25caf3c09a2",
     "showTitle": false,
     "tableResultSettingsMap": {},
     "title": ""
    }
   },
   "outputs": [],
   "source": [
    "%python \n",
    "tbl_location = spark.sql(\"DESCRIBE DETAIL unmanaged_table\").first().location\n",
    "\n",
    "# マネージドディレクトリに対するリストコマンドの実行は Unity Catalog では未サポート\n",
    "files = dbutils.fs.ls(tbl_location)\n",
    "display(files)"
   ]
  },
  {
   "cell_type": "markdown",
   "metadata": {
    "application/vnd.databricks.v1+cell": {
     "cellMetadata": {},
     "inputWidgets": {},
     "nuid": "abbd2bd6-5db1-4aac-9fc8-bcede02dc965",
     "showTitle": false,
     "tableResultSettingsMap": {},
     "title": ""
    }
   },
   "source": [
    "次にテーブルを削除し、ストレージパス上からテーブルに関連するデータも削除されることを確認してみましょう。"
   ]
  },
  {
   "cell_type": "code",
   "execution_count": 0,
   "metadata": {
    "application/vnd.databricks.v1+cell": {
     "cellMetadata": {
      "byteLimit": 2048000,
      "rowLimit": 10000
     },
     "inputWidgets": {},
     "nuid": "27b882f2-a286-4442-87e3-8a393cfbc2d1",
     "showTitle": false,
     "tableResultSettingsMap": {},
     "title": ""
    }
   },
   "outputs": [],
   "source": [
    "DROP TABLE unmanaged_table;"
   ]
  },
  {
   "cell_type": "code",
   "execution_count": 0,
   "metadata": {
    "application/vnd.databricks.v1+cell": {
     "cellMetadata": {
      "byteLimit": 2048000,
      "rowLimit": 10000
     },
     "inputWidgets": {},
     "nuid": "0b0f80e1-868e-4eff-ab05-c7d33333406d",
     "showTitle": false,
     "tableResultSettingsMap": {},
     "title": ""
    }
   },
   "outputs": [],
   "source": [
    "%python \n",
    "\n",
    "# マネージドディレクトリに対するリストコマンドの実行は Unity Catalog では未サポート\n",
    "files = dbutils.fs.ls(f\"dbfs:/user/hive/warehouse/{your_schema}.db/user_managed_path/unmanaged_table/\")\n",
    "display(files)"
   ]
  },
  {
   "cell_type": "markdown",
   "metadata": {
    "application/vnd.databricks.v1+cell": {
     "cellMetadata": {},
     "inputWidgets": {},
     "nuid": "f6cefd2b-b261-489d-80d5-bfc9f92eba3a",
     "showTitle": false,
     "tableResultSettingsMap": {},
     "title": ""
    }
   },
   "source": [
    "該当テーブルが格納されていた unmanaged_table ディレクトリがそのまま残っていることがわかります。 \n",
    "\n",
    "テーブルに関連する実データを削除するにはユーザーが明示的にストレージに対して直接操作する必要があります。"
   ]
  },
  {
   "cell_type": "code",
   "execution_count": 0,
   "metadata": {
    "application/vnd.databricks.v1+cell": {
     "cellMetadata": {
      "byteLimit": 2048000,
      "rowLimit": 10000
     },
     "inputWidgets": {},
     "nuid": "d107ff18-be78-43a4-84c1-9ba4945b4d3c",
     "showTitle": false,
     "tableResultSettingsMap": {},
     "title": ""
    }
   },
   "outputs": [],
   "source": [
    "%python\n",
    "dbutils.fs.rm(f\"dbfs:/user/hive/warehouse/{your_schema}.db/user_managed_path/\", True)\n",
    "files = dbutils.fs.ls(f\"dbfs:/user/hive/warehouse/{your_schema}.db/\")\n",
    "display(files)"
   ]
  },
  {
   "cell_type": "markdown",
   "metadata": {
    "application/vnd.databricks.v1+cell": {
     "cellMetadata": {},
     "inputWidgets": {},
     "nuid": "9a4abb7a-647f-47f2-85d7-1b7ec3f40b85",
     "showTitle": false,
     "tableResultSettingsMap": {},
     "title": ""
    }
   },
   "source": [
    "## テーブルの種類"
   ]
  },
  {
   "cell_type": "markdown",
   "metadata": {
    "application/vnd.databricks.v1+cell": {
     "cellMetadata": {},
     "inputWidgets": {},
     "nuid": "20d786dd-3c02-492a-8f57-49094c63b414",
     "showTitle": false,
     "tableResultSettingsMap": {},
     "title": ""
    }
   },
   "source": [
    "Databricks のテーブルは管理視点からマネージドテーブルとアンマネージドテーブルに分類されることを解説しましたが、用途視点での分類として以下があります。\n",
    "\n",
    "詳細は後述としここでは紹介のみとします。\n",
    "\n",
    "- テーブル\n",
    "  - 汎用 Delta Table\n",
    "  - ストリーミング用 Delta Table\n",
    "  - 非 Delta Table\n",
    "- ビュー\n",
    "  - ビュー\n",
    "  - マテリアライズドビュー\n",
    "  - 一時ビュー\n",
    "\n",
    "![](https://learn.microsoft.com/ja-jp/azure/databricks/_static/images/unity-catalog/object-model-table-and-view.png)\n",
    "\n",
    "**参考** ：[テーブルとビュー](https://learn.microsoft.com/ja-jp/azure/databricks/tables/)  \n",
    "**参考** ：[差分テーブル、ストリーミング テーブル、具体化されたビューの違い](https://learn.microsoft.com/ja-jp/azure/databricks/tables/#differences-between-delta-tables-streaming-tables-and-materialized-views)"
   ]
  },
  {
   "cell_type": "markdown",
   "metadata": {
    "application/vnd.databricks.v1+cell": {
     "cellMetadata": {},
     "inputWidgets": {},
     "nuid": "f0ed735f-cbe1-4a3d-bbaa-1e9d01bf9888",
     "showTitle": false,
     "tableResultSettingsMap": {},
     "title": ""
    }
   },
   "source": [
    "# [Option] 3. Delta Lakeへのデータの読み込み"
   ]
  },
  {
   "cell_type": "markdown",
   "metadata": {
    "application/vnd.databricks.v1+cell": {
     "cellMetadata": {},
     "inputWidgets": {},
     "nuid": "80b9cfbe-a338-45bd-a9d0-e02323305d1f",
     "showTitle": false,
     "tableResultSettingsMap": {},
     "title": ""
    }
   },
   "source": [
    "## 完全な上書き\n",
    "\n",
    "テーブル内のすべてのデータを原子的に置き換えるために上書きを使用できます。テーブルを削除して再作成する代わりにテーブルを上書きすることには、複数の利点があります：\n",
    "- テーブルを上書きする方がはるかに高速です。ディレクトリを再帰的にリストアップしたり、ファイルを削除したりする必要がないためです。\n",
    "- テーブルの古いバージョンはまだ存在し、タイムトラベルを使用して簡単に古いデータを取得できます。\n",
    "- CTAS はトランザクションであるためターゲットテーブルに対する同時クエリはブロックされることなくコミット済み最新データを読み取ることができます（削除の場合は再作成するまで元データが一時的に存在しない期間が発生します）。\n",
    "- ACIDトランザクションの保証により、テーブルの上書きに失敗した場合、テーブルは以前の状態になります。\n",
    "\n",
    "Spark SQLは完全な上書きを実行するための2つの簡単な方法を提供しています。\n",
    "\n",
    "- CREATE TABLE AS SELECT（いわゆる CTAS）\n",
    "- INSERT OVERWRITE"
   ]
  },
  {
   "cell_type": "code",
   "execution_count": 0,
   "metadata": {
    "application/vnd.databricks.v1+cell": {
     "cellMetadata": {
      "byteLimit": 2048000,
      "rowLimit": 10000
     },
     "inputWidgets": {},
     "nuid": "9bedfe98-f4b7-46b5-a7e3-e376d9c60ba0",
     "showTitle": false,
     "tableResultSettingsMap": {},
     "title": ""
    }
   },
   "outputs": [],
   "source": [
    "DROP TABLE IF EXISTS events;\n",
    "\n",
    "CREATE OR REPLACE TABLE events AS SELECT * FROM parquet.`${sample_dataset_path}/ecommerce/raw/events-historical`;\n",
    "\n",
    "SELECT * FROM events LIMIT 10;"
   ]
  },
  {
   "cell_type": "markdown",
   "metadata": {
    "application/vnd.databricks.v1+cell": {
     "cellMetadata": {},
     "inputWidgets": {},
     "nuid": "bb0a461b-030a-4e57-9b76-a6e8af6ff903",
     "showTitle": false,
     "tableResultSettingsMap": {},
     "title": ""
    }
   },
   "source": [
    "**`INSERT OVERWRITE`** は **`CTAS`** と同様にターゲットテーブル内のデータはクエリからのデータで置き換えられます。\n",
    "ただし同一のスキーマ定義をもつデータソースからの上書きのみに対応し CTAS のように新しいテーブルを作成することはできません（スキーマが変更されないため下流のコンシューマに対しては「安全」と言えます。"
   ]
  },
  {
   "cell_type": "code",
   "execution_count": 0,
   "metadata": {
    "application/vnd.databricks.v1+cell": {
     "cellMetadata": {
      "byteLimit": 2048000,
      "rowLimit": 10000
     },
     "inputWidgets": {},
     "nuid": "6d961a1b-de47-4269-82f7-af809f97e786",
     "showTitle": false,
     "tableResultSettingsMap": {},
     "title": ""
    }
   },
   "outputs": [],
   "source": [
    "INSERT OVERWRITE events SELECT * FROM parquet.`${sample_dataset_path}/ecommerce/raw/events-historical`;\n",
    "\n",
    "SELECT * FROM events LIMIT 10;"
   ]
  },
  {
   "cell_type": "markdown",
   "metadata": {
    "application/vnd.databricks.v1+cell": {
     "cellMetadata": {},
     "inputWidgets": {},
     "nuid": "e5370fb5-ded9-4de2-a917-8775e92011f5",
     "showTitle": false,
     "tableResultSettingsMap": {},
     "title": ""
    }
   },
   "source": [
    "テーブルのトランザクション履歴を確認してみましょう。"
   ]
  },
  {
   "cell_type": "code",
   "execution_count": 0,
   "metadata": {
    "application/vnd.databricks.v1+cell": {
     "cellMetadata": {
      "byteLimit": 2048000,
      "rowLimit": 10000
     },
     "inputWidgets": {},
     "nuid": "9f69fb39-b226-4ef1-ba69-f38fddacf832",
     "showTitle": false,
     "tableResultSettingsMap": {},
     "title": ""
    }
   },
   "outputs": [],
   "source": [
    "DESCRIBE HISTORY events"
   ]
  },
  {
   "cell_type": "markdown",
   "metadata": {
    "application/vnd.databricks.v1+cell": {
     "cellMetadata": {},
     "inputWidgets": {},
     "nuid": "808dadd6-cac1-4a67-bf9b-ae449ea04430",
     "showTitle": false,
     "tableResultSettingsMap": {},
     "title": ""
    }
   },
   "source": [
    "CTAS も INSERT OVERWRITE も単一のトランザクションであることがわかります。"
   ]
  },
  {
   "cell_type": "markdown",
   "metadata": {
    "application/vnd.databricks.v1+cell": {
     "cellMetadata": {},
     "inputWidgets": {},
     "nuid": "9be0b1fa-b8f2-4644-97e3-f63425dea3ff",
     "showTitle": false,
     "tableResultSettingsMap": {},
     "title": ""
    }
   },
   "source": [
    "## 行の追加\n",
    "\n",
    "**`INSERT INTO`** を使用して、既存のDeltaテーブルに新しい行を原子的に追加できます。これにより、毎回上書きするよりも効率的な既存のテーブルへの増分更新が可能になります。"
   ]
  },
  {
   "cell_type": "code",
   "execution_count": 0,
   "metadata": {
    "application/vnd.databricks.v1+cell": {
     "cellMetadata": {
      "byteLimit": 2048000,
      "rowLimit": 10000
     },
     "inputWidgets": {},
     "nuid": "790174c8-e74a-46c0-a819-859f2190d42c",
     "showTitle": false,
     "tableResultSettingsMap": {},
     "title": ""
    }
   },
   "outputs": [],
   "source": [
    "DROP TABLE IF EXISTS sales;\n",
    "\n",
    "CREATE OR REPLACE TABLE sales AS\n",
    "  SELECT * FROM parquet.`${sample_dataset_path}/ecommerce/raw/sales-historical`;\n",
    "\n",
    "SELECT * FROM sales LIMIT 10;"
   ]
  },
  {
   "cell_type": "markdown",
   "metadata": {
    "application/vnd.databricks.v1+cell": {
     "cellMetadata": {},
     "inputWidgets": {},
     "nuid": "bd5f2812-d0c6-493e-9f42-44905841891a",
     "showTitle": false,
     "tableResultSettingsMap": {},
     "title": ""
    }
   },
   "source": [
    "このテーブルを構成するデータファイルを確認してみましょう。"
   ]
  },
  {
   "cell_type": "code",
   "execution_count": 0,
   "metadata": {
    "application/vnd.databricks.v1+cell": {
     "cellMetadata": {
      "byteLimit": 2048000,
      "rowLimit": 10000
     },
     "inputWidgets": {},
     "nuid": "7b088d9f-abe8-4f89-9396-d653bb3a7e5c",
     "showTitle": false,
     "tableResultSettingsMap": {},
     "title": ""
    }
   },
   "outputs": [],
   "source": [
    "SELECT count(*), _metadata.file_path FROM sales GROUP BY _metadata.file_path;"
   ]
  },
  {
   "cell_type": "markdown",
   "metadata": {
    "application/vnd.databricks.v1+cell": {
     "cellMetadata": {},
     "inputWidgets": {},
     "nuid": "9d99cc10-8737-43bd-bc6d-cee96b452851",
     "showTitle": false,
     "tableResultSettingsMap": {},
     "title": ""
    }
   },
   "source": [
    "このテーブルに新しいデータを追加しあらためてデータファイルを確認してみましょう。"
   ]
  },
  {
   "cell_type": "code",
   "execution_count": 0,
   "metadata": {
    "application/vnd.databricks.v1+cell": {
     "cellMetadata": {
      "byteLimit": 2048000,
      "rowLimit": 10000
     },
     "inputWidgets": {},
     "nuid": "c4ddd59a-15bf-4b74-8e62-8e215bc265a2",
     "showTitle": false,
     "tableResultSettingsMap": {},
     "title": ""
    }
   },
   "outputs": [],
   "source": [
    "INSERT INTO sales SELECT * FROM parquet.`${sample_dataset_path}/ecommerce/raw/sales-30m`;\n",
    "SELECT count(*), _metadata.file_path FROM sales GROUP BY _metadata.file_path;"
   ]
  },
  {
   "cell_type": "markdown",
   "metadata": {
    "application/vnd.databricks.v1+cell": {
     "cellMetadata": {},
     "inputWidgets": {},
     "nuid": "a16ae9d4-ae2c-4855-80aa-44a283a43dcd",
     "showTitle": false,
     "tableResultSettingsMap": {},
     "title": ""
    }
   },
   "source": [
    "**`INSERT INTO`** には、同じレコードを複数回挿入するのを防ぐための組み込みの保証がないことに注意してください。上記セルと同じコマンドを再実行すると同じレコードがターゲットテーブルに書き込まれ重複したレコードが生成されます。"
   ]
  },
  {
   "cell_type": "code",
   "execution_count": 0,
   "metadata": {
    "application/vnd.databricks.v1+cell": {
     "cellMetadata": {
      "byteLimit": 2048000,
      "rowLimit": 10000
     },
     "inputWidgets": {},
     "nuid": "9f334738-9676-467d-a6c4-ffe326d2366c",
     "showTitle": false,
     "tableResultSettingsMap": {},
     "title": ""
    }
   },
   "outputs": [],
   "source": [
    "INSERT INTO sales SELECT * FROM parquet.`${sample_dataset_path}/ecommerce/raw/sales-30m`;\n",
    "SELECT count(*), _metadata.file_path FROM sales GROUP BY _metadata.file_path;"
   ]
  },
  {
   "cell_type": "markdown",
   "metadata": {
    "application/vnd.databricks.v1+cell": {
     "cellMetadata": {},
     "inputWidgets": {},
     "nuid": "16768122-9138-4418-83c5-e59484977e82",
     "showTitle": false,
     "tableResultSettingsMap": {},
     "title": ""
    }
   },
   "source": [
    "## 増分的な読み込み\n",
    "\n",
    "**`COPY INTO`** は冪等性をサポートする増分読み込み機能です。"
   ]
  },
  {
   "cell_type": "code",
   "execution_count": 0,
   "metadata": {
    "application/vnd.databricks.v1+cell": {
     "cellMetadata": {
      "byteLimit": 2048000,
      "rowLimit": 10000
     },
     "inputWidgets": {},
     "nuid": "ed93bde7-1dd2-40f3-a26e-9e9c659f7a96",
     "showTitle": false,
     "tableResultSettingsMap": {},
     "title": ""
    }
   },
   "outputs": [],
   "source": [
    "CREATE OR REPLACE TABLE sales AS\n",
    "  SELECT * FROM parquet.`${sample_dataset_path}/ecommerce/raw/sales-historical`;\n",
    "\n",
    "SELECT count(*), _metadata.file_path FROM sales GROUP BY _metadata.file_path;"
   ]
  },
  {
   "cell_type": "markdown",
   "metadata": {
    "application/vnd.databricks.v1+cell": {
     "cellMetadata": {},
     "inputWidgets": {},
     "nuid": "b813356e-ec9b-4067-830f-88064c812a88",
     "showTitle": false,
     "tableResultSettingsMap": {},
     "title": ""
    }
   },
   "source": [
    "このテーブルに新しいデータを追加しあらためてデータファイルを確認してみましょう。"
   ]
  },
  {
   "cell_type": "code",
   "execution_count": 0,
   "metadata": {
    "application/vnd.databricks.v1+cell": {
     "cellMetadata": {
      "byteLimit": 2048000,
      "rowLimit": 10000
     },
     "inputWidgets": {},
     "nuid": "f2f262f7-988a-44c0-b8de-332a58bbc7a8",
     "showTitle": false,
     "tableResultSettingsMap": {},
     "title": ""
    }
   },
   "outputs": [],
   "source": [
    "COPY INTO sales FROM \"${sample_dataset_path}/ecommerce/raw/sales-30m\" FILEFORMAT = PARQUET;\n",
    "\n",
    "SELECT count(*), _metadata.file_path FROM sales GROUP BY _metadata.file_path;"
   ]
  },
  {
   "cell_type": "markdown",
   "metadata": {
    "application/vnd.databricks.v1+cell": {
     "cellMetadata": {},
     "inputWidgets": {},
     "nuid": "483f55ff-4b05-474f-adc1-27dff74cbf56",
     "showTitle": false,
     "tableResultSettingsMap": {},
     "title": ""
    }
   },
   "source": [
    "**`COPY INTO`** は冪等性をサポートするため同じデータファイルが重複して読み込まれることがないことを保証しています。\n",
    "\n",
    "例として上記セルと同じコマンドを再実行してみましょう。"
   ]
  },
  {
   "cell_type": "code",
   "execution_count": 0,
   "metadata": {
    "application/vnd.databricks.v1+cell": {
     "cellMetadata": {
      "byteLimit": 2048000,
      "rowLimit": 10000
     },
     "inputWidgets": {},
     "nuid": "d9fb58cc-efc9-4008-ad2c-e13b77b9d63f",
     "showTitle": false,
     "tableResultSettingsMap": {},
     "title": ""
    }
   },
   "outputs": [],
   "source": [
    "COPY INTO sales FROM \"${sample_dataset_path}/ecommerce/raw/sales-30m\" FILEFORMAT = PARQUET;\n",
    "\n",
    "SELECT count(*), _metadata.file_path FROM sales GROUP BY _metadata.file_path;"
   ]
  },
  {
   "cell_type": "markdown",
   "metadata": {
    "application/vnd.databricks.v1+cell": {
     "cellMetadata": {},
     "inputWidgets": {},
     "nuid": "d4d996c3-51f3-4b94-aec2-6fc3eb520f91",
     "showTitle": false,
     "tableResultSettingsMap": {},
     "title": ""
    }
   },
   "source": [
    "\n",
    "同じデータファイルが重複して読み込まれることがないことが確認できました。\n",
    "\n",
    "この冪等性は、以下の方法で保証されています。\n",
    "\n",
    "**ファイルの追跡**: COPY INTO コマンドは、入力ファイルの詳細を Delta テーブルのログディレクトリ内に保存します。この情報は RocksDB というキー・バリュー・ストアに格納されます。  \n",
    "**重複除去ロジック**: 次回 COPY INTO コマンドが同じテーブルに対して実行されると、まず RocksDB からデータが読み込まれ、入力ファイルと比較されます。この比較により、既にロードされたファイルはスキップされます。  \n",
    "**強制オプション**: COPY_OPTIONS の force パラメータを true に設定すると、冪等性が無効化され、以前にロードされたファイルも再度ロードされます。  \n",
    "\n",
    "**参考** ：[How is Idempotency ensured for COPY INTO command](https://community.databricks.com/t5/machine-learning/how-is-idempotency-ensured-for-copy-into-command/td-p/19795)"
   ]
  },
  {
   "cell_type": "markdown",
   "metadata": {
    "application/vnd.databricks.v1+cell": {
     "cellMetadata": {},
     "inputWidgets": {},
     "nuid": "a7a90a3e-273b-4601-8c8a-515cef1ae71c",
     "showTitle": false,
     "tableResultSettingsMap": {},
     "title": ""
    }
   },
   "source": [
    "## マージ更新\n",
    "\n",
    "**`MERGE`** 使用して、ソーステーブル、ビュー、またはDataFrameからターゲットテーブルにデータをアップサートできます。 \n",
    "\n",
    "<strong><code>\n",
    "MERGE INTO target a<br/>\n",
    "USING source b<br/>\n",
    "ON {merge_condition}<br/>\n",
    "WHEN MATCHED THEN {matched_action}<br/>\n",
    "WHEN NOT MATCHED THEN {not_matched_action}<br/>\n",
    "</code></strong>\n",
    "\n",
    "例として 新しいユーザーもしくはメールアドレスが更新された既存ユーザーの情報を元のマスターテーブルに対して **`MERGE`** を利用し更新します。\n"
   ]
  },
  {
   "cell_type": "markdown",
   "metadata": {
    "application/vnd.databricks.v1+cell": {
     "cellMetadata": {},
     "inputWidgets": {},
     "nuid": "ee72db90-e8ec-47c1-861a-e4887704a87b",
     "showTitle": false,
     "tableResultSettingsMap": {},
     "title": ""
    }
   },
   "source": [
    "マスターテーブルを定義します。このテーブルは MERGE におけるターゲットテーブルとなります。"
   ]
  },
  {
   "cell_type": "code",
   "execution_count": 0,
   "metadata": {
    "application/vnd.databricks.v1+cell": {
     "cellMetadata": {
      "byteLimit": 2048000,
      "rowLimit": 10000
     },
     "inputWidgets": {},
     "nuid": "7500f787-0639-49bf-a5c6-466249a075e3",
     "showTitle": false,
     "tableResultSettingsMap": {},
     "title": ""
    }
   },
   "outputs": [],
   "source": [
    "DROP TABLE IF EXISTS users_pii;\n",
    "CREATE OR REPLACE TABLE users_pii\n",
    "COMMENT \"Contains PII\"\n",
    "AS\n",
    "  SELECT\n",
    "    *, \n",
    "    cast(cast(user_first_touch_timestamp/1e6 AS TIMESTAMP) AS DATE) first_touch_date, \n",
    "    current_timestamp() updated,\n",
    "    input_file_name() source_file\n",
    "  FROM parquet.`${sample_dataset_path}/ecommerce/raw/users-historical/`;\n",
    "  \n",
    "SELECT * FROM users_pii LIMIT 10;"
   ]
  },
  {
   "cell_type": "markdown",
   "metadata": {
    "application/vnd.databricks.v1+cell": {
     "cellMetadata": {},
     "inputWidgets": {},
     "nuid": "bed96aa5-09bf-4d04-ad82-0c4382dfa38e",
     "showTitle": false,
     "tableResultSettingsMap": {},
     "title": ""
    }
   },
   "source": [
    "ターゲットテーブルを構成するデータファイルとデータファイルごと格納されているレコード件数を確認してみます。"
   ]
  },
  {
   "cell_type": "code",
   "execution_count": 0,
   "metadata": {
    "application/vnd.databricks.v1+cell": {
     "cellMetadata": {
      "byteLimit": 2048000,
      "rowLimit": 10000
     },
     "inputWidgets": {},
     "nuid": "ed4c534b-db6b-403c-8933-ee0d2a5f1131",
     "showTitle": false,
     "tableResultSettingsMap": {},
     "title": ""
    }
   },
   "outputs": [],
   "source": [
    "SELECT COUNT(*) AS count, source_file FROM users_pii GROUP BY source_file"
   ]
  },
  {
   "cell_type": "markdown",
   "metadata": {
    "application/vnd.databricks.v1+cell": {
     "cellMetadata": {},
     "inputWidgets": {},
     "nuid": "57ab4fd4-28e2-4850-a669-658d93175079",
     "showTitle": false,
     "tableResultSettingsMap": {},
     "title": ""
    }
   },
   "source": [
    "次に 新しいユーザー情報 もしくは メールアドレスが更新された既存ユーザー情報 をもつテーブルを作成します。このテーブルは MERGE におけるソーステーブルとなります。"
   ]
  },
  {
   "cell_type": "code",
   "execution_count": 0,
   "metadata": {
    "application/vnd.databricks.v1+cell": {
     "cellMetadata": {
      "byteLimit": 2048000,
      "rowLimit": 10000
     },
     "inputWidgets": {},
     "nuid": "ac616d28-a86c-47cf-8e5a-4a7d593b2b0c",
     "showTitle": false,
     "tableResultSettingsMap": {},
     "title": ""
    }
   },
   "outputs": [],
   "source": [
    "CREATE OR REPLACE TEMP VIEW users_update \n",
    "AS \n",
    "  SELECT \n",
    "    *,\n",
    "    cast(cast(user_first_touch_timestamp/1e6 AS TIMESTAMP) AS DATE) first_touch_date, \n",
    "    current_timestamp() AS updated,\n",
    "    input_file_name() source_file\n",
    "  FROM parquet.`${sample_dataset_path}/ecommerce/raw/users-30m`;\n",
    "\n",
    "SELECT * FROM users_update LIMIT 10;"
   ]
  },
  {
   "cell_type": "markdown",
   "metadata": {
    "application/vnd.databricks.v1+cell": {
     "cellMetadata": {},
     "inputWidgets": {},
     "nuid": "9115540b-e16a-4623-9ecf-903ab2ecf15b",
     "showTitle": false,
     "tableResultSettingsMap": {},
     "title": ""
    }
   },
   "source": [
    "同様にソーステーブルを構成するデータファイルとデータファイルごと格納されているレコード件数を確認してみます。"
   ]
  },
  {
   "cell_type": "code",
   "execution_count": 0,
   "metadata": {
    "application/vnd.databricks.v1+cell": {
     "cellMetadata": {
      "byteLimit": 2048000,
      "rowLimit": 10000
     },
     "inputWidgets": {},
     "nuid": "59333eed-bff8-4b0b-ab49-8a1b3aa23926",
     "showTitle": false,
     "tableResultSettingsMap": {},
     "title": ""
    }
   },
   "outputs": [],
   "source": [
    "SELECT COUNT(*) AS count, source_file FROM users_update GROUP BY source_file"
   ]
  },
  {
   "cell_type": "markdown",
   "metadata": {
    "application/vnd.databricks.v1+cell": {
     "cellMetadata": {},
     "inputWidgets": {},
     "nuid": "68bb7343-9e95-40bc-b7c3-256cc5858edd",
     "showTitle": false,
     "tableResultSettingsMap": {},
     "title": ""
    }
   },
   "source": [
    "**`MERGE`** の主な利点：\n",
    "* 更新、挿入、削除が1つのトランザクションとして完了します\n",
    "* マッチングフィールドに加えて複数の条件を追加できます\n",
    "* カスタムロジックを実装するための幅広いオプションを提供します\n",
    "\n",
    "以下の MERGE は ターゲットテーブル と ソーステーブル のマージ処理を行います。\n",
    "- user_id が一致する場合：ターゲットテーブル内の email が登録されていない かつ ソーステーブル内の email が登録 されている場合はソーステーブル内の email をターゲットテーブル内の email として登録します。\n",
    "- user_id が一致しない場合：ソーステーブル内ユーザー情報（全列）をターゲットテーブルに登録します。"
   ]
  },
  {
   "cell_type": "code",
   "execution_count": 0,
   "metadata": {
    "application/vnd.databricks.v1+cell": {
     "cellMetadata": {
      "byteLimit": 2048000,
      "rowLimit": 10000
     },
     "inputWidgets": {},
     "nuid": "07e9b555-cb75-4946-8e82-560fae7c17e8",
     "showTitle": false,
     "tableResultSettingsMap": {},
     "title": ""
    }
   },
   "outputs": [],
   "source": [
    "MERGE INTO users_pii a\n",
    "USING users_update b\n",
    "ON a.user_id = b.user_id\n",
    "WHEN MATCHED AND a.email IS NULL AND b.email IS NOT NULL THEN\n",
    "  UPDATE SET email = b.email, updated = b.updated\n",
    "WHEN NOT MATCHED THEN\n",
    "  INSERT *"
   ]
  },
  {
   "cell_type": "markdown",
   "metadata": {
    "application/vnd.databricks.v1+cell": {
     "cellMetadata": {},
     "inputWidgets": {},
     "nuid": "61e1a68c-59ad-40a6-83e4-dc2a7a989695",
     "showTitle": false,
     "tableResultSettingsMap": {},
     "title": ""
    }
   },
   "source": [
    "MERGE 後のソーステーブルのデータファイルとデータファイルごと格納されているレコード件数を確認してみましょう。\n",
    "最初の結果に比較して新たなソースファイルが追加されていることと、各ソースファイル内の有効なデータ件数が変わっていることに注目してください。"
   ]
  },
  {
   "cell_type": "code",
   "execution_count": 0,
   "metadata": {
    "application/vnd.databricks.v1+cell": {
     "cellMetadata": {
      "byteLimit": 2048000,
      "rowLimit": 10000
     },
     "inputWidgets": {},
     "nuid": "bceea797-5a2a-40a8-a1d6-890f42a27f05",
     "showTitle": false,
     "tableResultSettingsMap": {},
     "title": ""
    }
   },
   "outputs": [],
   "source": [
    "SELECT COUNT(*) AS count, source_file FROM users_pii GROUP BY source_file"
   ]
  },
  {
   "cell_type": "markdown",
   "metadata": {
    "application/vnd.databricks.v1+cell": {
     "cellMetadata": {},
     "inputWidgets": {},
     "nuid": "1aec5169-ee79-49d7-8c56-1f9ed84c9a49",
     "showTitle": false,
     "tableResultSettingsMap": {},
     "title": ""
    }
   },
   "source": [
    "この関数の動作を **`MATCHED`** および **`NOT MATCHED`** の両条件に対して明示的に指定しています。ここで示されている例は適用できるロジックの一例であり、 **`MERGE`** のすべての動作を示すものではありません。\n",
    "\n",
    "**参考** ：[マージを使用した Delta Lake テーブルへの upsert](https://learn.microsoft.com/ja-jp/azure/databricks/delta/merge)  \n",
    "**参考** ：[MERGE INTO](https://learn.microsoft.com/ja-jp/azure/databricks/sql/language-manual/delta-merge-into)"
   ]
  },
  {
   "cell_type": "code",
   "execution_count": 0,
   "metadata": {
    "application/vnd.databricks.v1+cell": {
     "cellMetadata": {
      "byteLimit": 2048000,
      "rowLimit": 10000
     },
     "inputWidgets": {},
     "nuid": "849ddaf9-0690-44e9-a01f-5bdf31cf8429",
     "showTitle": false,
     "tableResultSettingsMap": {},
     "title": ""
    }
   },
   "outputs": [],
   "source": [
    "-- SELECT count(*), _metadata.file_path, source_file FROM users_pii GROUP BY _metadata.file_path, source_file;"
   ]
  },
  {
   "cell_type": "markdown",
   "metadata": {
    "application/vnd.databricks.v1+cell": {
     "cellMetadata": {},
     "inputWidgets": {},
     "nuid": "5e9532f5-778c-486b-b684-77fa8bd832bc",
     "showTitle": false,
     "tableResultSettingsMap": {},
     "title": ""
    }
   },
   "source": [
    "# [Option] 4. Delta テーブルのテクニック"
   ]
  },
  {
   "cell_type": "markdown",
   "metadata": {
    "application/vnd.databricks.v1+cell": {
     "cellMetadata": {},
     "inputWidgets": {},
     "nuid": "7a2c8842-4f7a-4d6b-a140-ea59af3c7d57",
     "showTitle": false,
     "tableResultSettingsMap": {},
     "title": ""
    }
   },
   "source": [
    "## CTAS によるテーブル作成"
   ]
  },
  {
   "cell_type": "code",
   "execution_count": 0,
   "metadata": {
    "application/vnd.databricks.v1+cell": {
     "cellMetadata": {
      "byteLimit": 2048000,
      "rowLimit": 10000
     },
     "inputWidgets": {},
     "nuid": "92df67c9-3bb1-4331-b367-32ace60da11d",
     "showTitle": false,
     "tableResultSettingsMap": {},
     "title": ""
    }
   },
   "outputs": [],
   "source": [
    "USE CATALOG ${your_catalog};\n",
    "USE SCHEMA ${your_schema};"
   ]
  },
  {
   "cell_type": "markdown",
   "metadata": {
    "application/vnd.databricks.v1+cell": {
     "cellMetadata": {},
     "inputWidgets": {},
     "nuid": "f95b5f59-3813-4938-9909-e3119465abb8",
     "showTitle": false,
     "tableResultSettingsMap": {},
     "title": ""
    }
   },
   "source": [
    "**`CREATE TABLE AS SELECT`** ステートメントは、入力クエリから取得したデータを使用してDeltaテーブルを作成し、データを追加します。"
   ]
  },
  {
   "cell_type": "code",
   "execution_count": 0,
   "metadata": {
    "application/vnd.databricks.v1+cell": {
     "cellMetadata": {
      "byteLimit": 2048000,
      "rowLimit": 10000
     },
     "inputWidgets": {},
     "nuid": "33ec012b-183d-439e-a31e-8e0813b7e7b8",
     "showTitle": false,
     "tableResultSettingsMap": {},
     "title": ""
    }
   },
   "outputs": [],
   "source": [
    "DROP TABLE IF EXISTS sales;\n",
    "CREATE OR REPLACE TABLE sales AS\n",
    "SELECT * FROM parquet.`${sample_dataset_path}/ecommerce/raw/sales-historical`;\n",
    "\n",
    "SELECT * FROM sales LIMIT 10;"
   ]
  },
  {
   "cell_type": "markdown",
   "metadata": {
    "application/vnd.databricks.v1+cell": {
     "cellMetadata": {},
     "inputWidgets": {},
     "nuid": "053ce840-0ff4-4edd-bcd7-fb8f9e9c47f2",
     "showTitle": false,
     "tableResultSettingsMap": {},
     "title": ""
    }
   },
   "source": [
    "列名を変更したり対象列を省略したりするような変換はテーブルの作成中に簡単に行うことができます。\n",
    "\n",
    "次の CTAS ステートメントは、 **`sales`** テーブルからの列のサブセットを含む新しいテーブルを作成します。\n",
    "ここでは、意図的にユーザーを特定する可能性のある情報や個別の購入詳細を提供する情報を省略していると仮定します。また、下流のシステムがソースデータと異なる命名規則を持っていると仮定し、フィールド名を変更します。"
   ]
  },
  {
   "cell_type": "code",
   "execution_count": 0,
   "metadata": {
    "application/vnd.databricks.v1+cell": {
     "cellMetadata": {
      "byteLimit": 2048000,
      "rowLimit": 10000
     },
     "inputWidgets": {},
     "nuid": "3a52fb78-65a1-4fe0-8d2f-fc7dcbe0b5b5",
     "showTitle": false,
     "tableResultSettingsMap": {},
     "title": ""
    }
   },
   "outputs": [],
   "source": [
    "DROP TABLE IF EXISTS purchases;\n",
    "CREATE OR REPLACE TABLE purchases AS\n",
    "SELECT order_id AS id, transaction_timestamp, purchase_revenue_in_usd AS price\n",
    "FROM sales;\n",
    "\n",
    "SELECT * FROM purchases LIMIT 10;"
   ]
  },
  {
   "cell_type": "markdown",
   "metadata": {
    "application/vnd.databricks.v1+cell": {
     "cellMetadata": {},
     "inputWidgets": {},
     "nuid": "d49e8a33-dbee-4b16-87e1-5d32c81b8dd7",
     "showTitle": false,
     "tableResultSettingsMap": {},
     "title": ""
    }
   },
   "source": [
    "要件に応じてビューを使用することでも似たことを達成できます。"
   ]
  },
  {
   "cell_type": "code",
   "execution_count": 0,
   "metadata": {
    "application/vnd.databricks.v1+cell": {
     "cellMetadata": {
      "byteLimit": 2048000,
      "rowLimit": 10000
     },
     "inputWidgets": {},
     "nuid": "d9a29558-79da-4625-9f0e-d90234061e23",
     "showTitle": false,
     "tableResultSettingsMap": {},
     "title": ""
    }
   },
   "outputs": [],
   "source": [
    "DROP VIEW IF EXISTS purchases_vw;\n",
    "CREATE OR REPLACE VIEW purchases_vw AS\n",
    "SELECT order_id AS id, transaction_timestamp, purchase_revenue_in_usd AS price\n",
    "FROM sales;\n",
    "\n",
    "SELECT * FROM purchases_vw LIMIT 10;"
   ]
  },
  {
   "cell_type": "markdown",
   "metadata": {
    "application/vnd.databricks.v1+cell": {
     "cellMetadata": {},
     "inputWidgets": {},
     "nuid": "3459581c-13b7-4764-b580-9a7041e98aa4",
     "showTitle": false,
     "tableResultSettingsMap": {},
     "title": ""
    }
   },
   "source": [
    "このように便利な CTAS ですが、スキーマ推論はサポートされていないためスキーマが明示的に定義されたソース（Parquet や テーブル）からの外部データ取り込みに適しています。\n",
    "\n",
    "また追加のファイルオプション指定もサポートされないため CSV ファイルなどスキーマが明示されていないデータの取り込みには不向きです。"
   ]
  },
  {
   "cell_type": "code",
   "execution_count": 0,
   "metadata": {
    "application/vnd.databricks.v1+cell": {
     "cellMetadata": {
      "byteLimit": 2048000,
      "rowLimit": 10000
     },
     "inputWidgets": {},
     "nuid": "7b3bb027-d470-485b-999c-d78310998f50",
     "showTitle": false,
     "tableResultSettingsMap": {},
     "title": ""
    }
   },
   "outputs": [],
   "source": [
    "DROP TABLE IF EXISTS sales_unparsed;\n",
    "CREATE OR REPLACE TABLE sales_unparsed AS\n",
    "SELECT * FROM csv.`${sample_dataset_path}/ecommerce/raw/sales-csv`;\n",
    "\n",
    "SELECT * FROM sales_unparsed LIMIT 10;"
   ]
  },
  {
   "cell_type": "markdown",
   "metadata": {
    "application/vnd.databricks.v1+cell": {
     "cellMetadata": {},
     "inputWidgets": {},
     "nuid": "b326b2e6-d02a-4a44-a724-2536f409c0d4",
     "showTitle": false,
     "tableResultSettingsMap": {},
     "title": ""
    }
   },
   "source": [
    "上記のように CSV に対する CTAS は期待通りには動作しません。\n",
    "\n",
    "CSV ファイルなどスキーマが明示されていないデータを取り込む際には別の手段を利用します。"
   ]
  },
  {
   "cell_type": "code",
   "execution_count": 0,
   "metadata": {
    "application/vnd.databricks.v1+cell": {
     "cellMetadata": {
      "byteLimit": 2048000,
      "rowLimit": 10000
     },
     "inputWidgets": {},
     "nuid": "3b83e389-075d-4000-9327-f68fdfe98dac",
     "showTitle": false,
     "tableResultSettingsMap": {},
     "title": ""
    }
   },
   "outputs": [],
   "source": [
    "CREATE OR REPLACE TEMP VIEW sales_tmp_vw\n",
    "  (order_id LONG, email STRING, transactions_timestamp LONG, total_item_quantity INTEGER, purchase_revenue_in_usd DOUBLE, unique_items INTEGER, items STRING)\n",
    "USING CSV\n",
    "OPTIONS (\n",
    "  path = \"${sample_dataset_path}/ecommerce/raw/sales-csv\",\n",
    "  header = \"true\",\n",
    "  delimiter = \"|\"\n",
    ");\n",
    "\n",
    "DROP TABLE IF EXISTS sales_delta;\n",
    "CREATE OR REPLACE TABLE sales_delta AS\n",
    "  SELECT * FROM sales_tmp_vw;\n",
    "  \n",
    "SELECT * FROM sales_delta LIMIT 10;"
   ]
  },
  {
   "cell_type": "markdown",
   "metadata": {
    "application/vnd.databricks.v1+cell": {
     "cellMetadata": {},
     "inputWidgets": {},
     "nuid": "b76b67fe-930b-4f53-b985-22a6bdd20124",
     "showTitle": false,
     "tableResultSettingsMap": {},
     "title": ""
    }
   },
   "source": [
    "## 生成列を使用したスキーマ定義\n",
    "\n",
    "生成列は、Deltaテーブル内の他の列に基づいて自動的に生成される値を持つ列です。\n",
    "\n",
    "例えば上で作成した Sales テーブルの transactions_timestamp 列は UNIX time として格納されているため扱いづらいため生成列として日付列を追加します。\n",
    "\n",
    "**参考** ：[Delta Lake で生成された列](https://learn.microsoft.com/ja-jp/azure/databricks/delta/generated-columns)"
   ]
  },
  {
   "cell_type": "code",
   "execution_count": 0,
   "metadata": {
    "application/vnd.databricks.v1+cell": {
     "cellMetadata": {
      "byteLimit": 2048000,
      "rowLimit": 10000
     },
     "inputWidgets": {},
     "nuid": "696cee91-ecf7-4baa-8cae-b53cb7880ece",
     "showTitle": false,
     "tableResultSettingsMap": {},
     "title": ""
    }
   },
   "outputs": [],
   "source": [
    "DROP TABLE IF EXISTS purchase_dates;\n",
    "CREATE OR REPLACE TABLE purchase_dates (\n",
    "  id STRING, \n",
    "  transaction_timestamp STRING, \n",
    "  price STRING,\n",
    "  date DATE GENERATED ALWAYS AS (\n",
    "    cast(cast(transaction_timestamp/1e6 AS TIMESTAMP) AS DATE))\n",
    "    COMMENT \"generated based on `transactions_timestamp` column\")"
   ]
  },
  {
   "cell_type": "markdown",
   "metadata": {
    "application/vnd.databricks.v1+cell": {
     "cellMetadata": {},
     "inputWidgets": {},
     "nuid": "c3be0295-189b-48b3-9302-c6ae3cfe6039",
     "showTitle": false,
     "tableResultSettingsMap": {},
     "title": ""
    }
   },
   "source": [
    "生成列をもつ新しいテーブル（ **`purchase_dates`** ）に対して既にデータを保持する元テーブル（**`purchase`**）をロードします。\n",
    "\n",
    "その手段として MERGE を利用できます。INSERT INTO はスキーマが一致していることが条件ですが MERGE には SCHEMA EVOLUTION という機能があり、これによりデータだけではなくスキーマについてもマージを行うことができます。\n",
    "\n",
    "**参考** ：[スキーマの展開を有効にする](https://learn.microsoft.com/ja-jp/azure/databricks/delta/update-schema#enable-schema-evo)"
   ]
  },
  {
   "cell_type": "code",
   "execution_count": 0,
   "metadata": {
    "application/vnd.databricks.v1+cell": {
     "cellMetadata": {
      "byteLimit": 2048000,
      "rowLimit": 10000
     },
     "inputWidgets": {},
     "nuid": "49dff1ae-62e7-4eb8-89fd-1803784b2d5b",
     "showTitle": false,
     "tableResultSettingsMap": {},
     "title": ""
    }
   },
   "outputs": [],
   "source": [
    "-- INSERT INTO はロード先とロード元のスキーマが一致する必要があり SCHEMA EVOLUTION も未サポートです。\n",
    "-- INSERT INTO purchase_dates SELECT * FROM purchases;"
   ]
  },
  {
   "cell_type": "code",
   "execution_count": 0,
   "metadata": {
    "application/vnd.databricks.v1+cell": {
     "cellMetadata": {
      "byteLimit": 2048000,
      "rowLimit": 10000
     },
     "inputWidgets": {},
     "nuid": "b5a5f270-8e34-4174-866d-33872100a742",
     "showTitle": false,
     "tableResultSettingsMap": {},
     "title": ""
    }
   },
   "outputs": [],
   "source": [
    "MERGE WITH SCHEMA EVOLUTION INTO purchase_dates a\n",
    "  USING purchases b ON a.id = b.id\n",
    "  WHEN NOT MATCHED THEN\n",
    "    INSERT *\n",
    ";\n",
    "\n",
    "SELECT * FROM purchase_dates LIMIT 10;"
   ]
  },
  {
   "cell_type": "markdown",
   "metadata": {
    "application/vnd.databricks.v1+cell": {
     "cellMetadata": {},
     "inputWidgets": {},
     "nuid": "406be810-83bc-43b5-b244-3bfba6c8ab82",
     "showTitle": false,
     "tableResultSettingsMap": {},
     "title": ""
    }
   },
   "source": [
    "もちろんデータを個別に INSERT することも可能です。"
   ]
  },
  {
   "cell_type": "code",
   "execution_count": 0,
   "metadata": {
    "application/vnd.databricks.v1+cell": {
     "cellMetadata": {
      "byteLimit": 2048000,
      "rowLimit": 10000
     },
     "inputWidgets": {},
     "nuid": "6c48512f-c936-4528-a403-fe17e2bbe70e",
     "showTitle": false,
     "tableResultSettingsMap": {},
     "title": ""
    }
   },
   "outputs": [],
   "source": [
    "INSERT INTO purchase_dates (id, transaction_timestamp, price )VALUES (1, 1592237293397767, 1.0);\n",
    "\n",
    "SELECT * FROM purchase_dates WHERE id = 1;"
   ]
  },
  {
   "cell_type": "markdown",
   "metadata": {
    "application/vnd.databricks.v1+cell": {
     "cellMetadata": {},
     "inputWidgets": {},
     "nuid": "e2110465-7bf5-4cb6-9d7f-d3413dfc0000",
     "showTitle": false,
     "tableResultSettingsMap": {},
     "title": ""
    }
   },
   "source": [
    "ただし、生成列の値が指定されている場合は生成列定義で導出される値と完全に一致しない場合エラーとなります。\n",
    "\n",
    "以下のセルをコメント解除して実行することで、このエラーを確認できます。"
   ]
  },
  {
   "cell_type": "code",
   "execution_count": 0,
   "metadata": {
    "application/vnd.databricks.v1+cell": {
     "cellMetadata": {
      "byteLimit": 2048000,
      "rowLimit": 10000
     },
     "inputWidgets": {},
     "nuid": "9d59379f-73f6-4220-a432-7b8415bcb0b2",
     "showTitle": false,
     "tableResultSettingsMap": {},
     "title": ""
    }
   },
   "outputs": [],
   "source": [
    "-- INSERT INTO purchase_dates VALUES (2, 1592237293397767, 2.0, \"2020-06-18\");"
   ]
  },
  {
   "cell_type": "code",
   "execution_count": 0,
   "metadata": {
    "application/vnd.databricks.v1+cell": {
     "cellMetadata": {
      "byteLimit": 2048000,
      "rowLimit": 10000
     },
     "inputWidgets": {},
     "nuid": "48841fea-ff1f-4b46-b0ab-54a2425b4023",
     "showTitle": false,
     "tableResultSettingsMap": {},
     "title": ""
    }
   },
   "outputs": [],
   "source": [
    "INSERT INTO purchase_dates VALUES (2, 1592237293397767, 2.0, cast(cast(1592237293397767/1e6 AS TIMESTAMP) AS DATE));\n",
    "\n",
    "SELECT * FROM purchase_dates WHERE id = 2;"
   ]
  },
  {
   "cell_type": "markdown",
   "metadata": {
    "application/vnd.databricks.v1+cell": {
     "cellMetadata": {},
     "inputWidgets": {},
     "nuid": "67555830-5998-4989-8232-51e7100ef43f",
     "showTitle": false,
     "tableResultSettingsMap": {},
     "title": ""
    }
   },
   "source": [
    "## テーブル制約の追加\n",
    "\n",
    "テーブルへの追加されるデータに対する制約を定義することでデータの品質と整合性を確保することができます。\n",
    "\n",
    "Databricks は現時点で２つのタイプの制約をサポートしています:\n",
    "* <a href=\"https://learn.microsoft.com/ja-jp/azure/databricks/tables/constraints#not-null-constraint\" target=\"_blank\">**`NOT NULL`** 制約</a>\n",
    "* <a href=\"https://learn.microsoft.com/ja-jp/azure/databricks/tables/constraints#check-constraint\" target=\"_blank\">**`CHECK`** 制約</a>\n",
    "\n",
    "どちらの場合も、制約を定義する際に既にデータが存在する場合は既存データに対する違反チェックがなされ違反する場合は制約定義エラーとなります。\n"
   ]
  },
  {
   "cell_type": "code",
   "execution_count": 0,
   "metadata": {
    "application/vnd.databricks.v1+cell": {
     "cellMetadata": {
      "byteLimit": 2048000,
      "rowLimit": 10000
     },
     "inputWidgets": {},
     "nuid": "2030e502-70a5-4805-99b6-0a44200e8c0c",
     "showTitle": false,
     "tableResultSettingsMap": {},
     "title": ""
    }
   },
   "outputs": [],
   "source": [
    "-- ALTER TABLE purchase_dates ADD CONSTRAINT valid_date CHECK (date > '2025-03-01');"
   ]
  },
  {
   "cell_type": "markdown",
   "metadata": {
    "application/vnd.databricks.v1+cell": {
     "cellMetadata": {},
     "inputWidgets": {},
     "nuid": "8a52463e-65fc-4a86-a557-97d2d7d4ed1e",
     "showTitle": false,
     "tableResultSettingsMap": {},
     "title": ""
    }
   },
   "source": [
    "\n",
    "以下では、テーブルの **`date`** 列に **`CHECK`** 制約を追加します。 **`CHECK`** 制約は、データセットをフィルタリングするために使用するかもしれない標準の **`WHERE`** 句のように見えます。"
   ]
  },
  {
   "cell_type": "code",
   "execution_count": 0,
   "metadata": {
    "application/vnd.databricks.v1+cell": {
     "cellMetadata": {
      "byteLimit": 2048000,
      "rowLimit": 10000
     },
     "inputWidgets": {},
     "nuid": "e0d64f71-a959-425b-995a-dd3909be15d4",
     "showTitle": false,
     "tableResultSettingsMap": {},
     "title": ""
    }
   },
   "outputs": [],
   "source": [
    "ALTER TABLE purchase_dates ADD CONSTRAINT valid_date CHECK (date > '2020-01-01');"
   ]
  },
  {
   "cell_type": "markdown",
   "metadata": {
    "application/vnd.databricks.v1+cell": {
     "cellMetadata": {},
     "inputWidgets": {},
     "nuid": "79b612b4-3d19-4a08-94bf-61b7c5855cf5",
     "showTitle": false,
     "tableResultSettingsMap": {},
     "title": ""
    }
   },
   "source": [
    "定義した制約はメタデータの **`TBLPROPERTIES`** フィールドから確認可能です。"
   ]
  },
  {
   "cell_type": "code",
   "execution_count": 0,
   "metadata": {
    "application/vnd.databricks.v1+cell": {
     "cellMetadata": {
      "byteLimit": 2048000,
      "rowLimit": 10000
     },
     "inputWidgets": {},
     "nuid": "3c51ed1a-5e69-4b65-88f4-1277d29e811f",
     "showTitle": false,
     "tableResultSettingsMap": {},
     "title": ""
    }
   },
   "outputs": [],
   "source": [
    "DESCRIBE EXTENDED purchase_dates"
   ]
  },
  {
   "cell_type": "code",
   "execution_count": 0,
   "metadata": {
    "application/vnd.databricks.v1+cell": {
     "cellMetadata": {
      "byteLimit": 2048000,
      "rowLimit": 10000
     },
     "inputWidgets": {},
     "nuid": "e02d5cb9-011c-47b8-b629-ab70c02d75cf",
     "showTitle": false,
     "tableResultSettingsMap": {},
     "title": ""
    }
   },
   "outputs": [],
   "source": [
    "-- INSERT INTO purchase_dates (id, transaction_timestamp, price )VALUES (3, 1572237293397767, 3.0);"
   ]
  },
  {
   "cell_type": "markdown",
   "metadata": {
    "application/vnd.databricks.v1+cell": {
     "cellMetadata": {},
     "inputWidgets": {},
     "nuid": "47ee2d25-fbc6-4460-8e25-35642a0ef4fa",
     "showTitle": false,
     "tableResultSettingsMap": {},
     "title": ""
    }
   },
   "source": [
    "## テーブルへのメタデータの追加\n",
    "\n",
    "**`SELECT`** 句では、ファイルの取り込みに役立つ2つの組み込み関数が提供されています。\n",
    "* **`current_timestamp()`** ：ロジックが実行されたタイムスタンプを記録します\n",
    "* **`input_file_name()`** ：テーブル内の各レコードのソースデータファイルを記録します\n",
    "\n",
    "これらのメタデータは「レコードがいつ挿入されたか」、「どこから来たか」を理解するのに役立つ情報を提供します。これは、ソースデータの問題をトラブルシューティングする必要がある場合に特に役立ちます。\n",
    "\n",
    "またコメントを付加することもできます。"
   ]
  },
  {
   "cell_type": "code",
   "execution_count": 0,
   "metadata": {
    "application/vnd.databricks.v1+cell": {
     "cellMetadata": {
      "byteLimit": 2048000,
      "rowLimit": 10000
     },
     "inputWidgets": {},
     "nuid": "71c69b9d-c150-4c55-b969-593c2062578b",
     "showTitle": false,
     "tableResultSettingsMap": {},
     "title": ""
    }
   },
   "outputs": [],
   "source": [
    "DROP TABLE IF EXISTS users_pii;\n",
    "CREATE OR REPLACE TABLE users_pii\n",
    "COMMENT \"Contains PII\"\n",
    "AS\n",
    "  SELECT *, \n",
    "    cast(cast(user_first_touch_timestamp/1e6 AS TIMESTAMP) AS DATE) first_touch_date, \n",
    "    current_timestamp() updated,\n",
    "    input_file_name() source_file\n",
    "  FROM parquet.`${sample_dataset_path}/ecommerce/raw/users-historical/`;\n",
    "  \n",
    "SELECT * FROM users_pii LIMIT 10;"
   ]
  },
  {
   "cell_type": "markdown",
   "metadata": {
    "application/vnd.databricks.v1+cell": {
     "cellMetadata": {},
     "inputWidgets": {},
     "nuid": "69cb28b5-9464-477b-8236-eafc00fe74ea",
     "showTitle": false,
     "tableResultSettingsMap": {},
     "title": ""
    }
   },
   "source": [
    "メタデータの利用例としてソースファイルごと現在有効なレコード件数を確認してみましょう。"
   ]
  },
  {
   "cell_type": "code",
   "execution_count": 0,
   "metadata": {
    "application/vnd.databricks.v1+cell": {
     "cellMetadata": {
      "byteLimit": 2048000,
      "rowLimit": 10000
     },
     "inputWidgets": {},
     "nuid": "d384ee9b-df38-4f60-9d77-f9cfc5758f21",
     "showTitle": false,
     "tableResultSettingsMap": {},
     "title": ""
    }
   },
   "outputs": [],
   "source": [
    "SELECT COUNT(*) AS count, source_file FROM users_pii GROUP BY source_file"
   ]
  },
  {
   "cell_type": "markdown",
   "metadata": {
    "application/vnd.databricks.v1+cell": {
     "cellMetadata": {},
     "inputWidgets": {},
     "nuid": "bd07bf31-3f5c-4666-9690-748dc169564d",
     "showTitle": false,
     "tableResultSettingsMap": {},
     "title": ""
    }
   },
   "source": [
    "## Delta Lakeテーブルのクローン"
   ]
  },
  {
   "cell_type": "markdown",
   "metadata": {
    "application/vnd.databricks.v1+cell": {
     "cellMetadata": {},
     "inputWidgets": {},
     "nuid": "7e3e8c2d-22bd-47c7-a177-b6817e0103c3",
     "showTitle": false,
     "tableResultSettingsMap": {},
     "title": ""
    }
   },
   "source": [
    "**はじめに**：学習観点のわかりやすさのため hive_metastore を利用するためにコンテキストを切り替えます"
   ]
  },
  {
   "cell_type": "code",
   "execution_count": 0,
   "metadata": {
    "application/vnd.databricks.v1+cell": {
     "cellMetadata": {
      "byteLimit": 2048000,
      "rowLimit": 10000
     },
     "inputWidgets": {},
     "nuid": "3e73f50f-ea5c-4edc-a89c-220880e3f159",
     "showTitle": false,
     "tableResultSettingsMap": {},
     "title": ""
    }
   },
   "outputs": [],
   "source": [
    "USE CATALOG hive_metastore;\n",
    "CREATE SCHEMA IF NOT EXISTS ${your_schema};\n",
    "USE SCHEMA ${your_schema};"
   ]
  },
  {
   "cell_type": "markdown",
   "metadata": {
    "application/vnd.databricks.v1+cell": {
     "cellMetadata": {},
     "inputWidgets": {},
     "nuid": "efc655b4-45b2-4228-9ceb-64162c4143f0",
     "showTitle": false,
     "tableResultSettingsMap": {},
     "title": ""
    }
   },
   "source": [
    "Delta LakeにはDelta Lakeテーブルを効率的にコピーするための2つのオプションがあります。\n",
    "\n",
    "- **`DEEP CLONE`** ：ソーステーブルからターゲットテーブルにデータとメタデータを完全にコピーします。 このコピーは段階的に行われるので、このコマンドを再度実行するとソースからターゲットの場所に変更を同期できます。  \n",
    "\n",
    "- **`SHALLOW CLONE`** ：ソーステーブルからターゲットテーブルにトランザクションログのみコピーしデータは移動しません。`DEEP CLONE` はすべてのデータファイルをコピーする必要があるため、大きなデータセットの場合、この処理は、長時間がかかる場合があります。現在のテーブルを変更してしまうリスクを冒さずに変更の適用を試し、簡単にテーブルのコピーを作成したいときは `SHALLOW CLONE` が便利です。\n",
    "\n",
    "いずれも、クローンに対するデータ変更はソースとは分岐して別に履歴が管理されます。\n",
    "\n",
    "**参考** ：[Azure Databricks でテーブルを複製する](https://learn.microsoft.com/ja-jp/azure/databricks/delta/clone)  \n",
    "**参考** ：[CREATE TABLE CLONE](https://learn.microsoft.com/ja-jp/azure/databricks/sql/language-manual/delta-clone)"
   ]
  },
  {
   "cell_type": "markdown",
   "metadata": {
    "application/vnd.databricks.v1+cell": {
     "cellMetadata": {},
     "inputWidgets": {},
     "nuid": "c23ce2c5-a82b-45a7-8513-60dded815896",
     "showTitle": false,
     "tableResultSettingsMap": {},
     "title": ""
    }
   },
   "source": [
    "それでは実際に動作を見てみましょう。まずはデモ用のテーブルを作成します。"
   ]
  },
  {
   "cell_type": "code",
   "execution_count": 0,
   "metadata": {
    "application/vnd.databricks.v1+cell": {
     "cellMetadata": {
      "byteLimit": 2048000,
      "rowLimit": 10000
     },
     "inputWidgets": {},
     "nuid": "46856bcb-342d-4991-a056-74a292898282",
     "showTitle": false,
     "tableResultSettingsMap": {},
     "title": ""
    }
   },
   "outputs": [],
   "source": [
    "DROP TABLE IF EXISTS source_table;\n",
    "CREATE OR REPLACE TABLE source_table (id INT, name STRING, engine STRING);\n",
    "INSERT INTO source_table VALUES (1, 'LAND CRUISER 70',  '1VD-FTV');\n",
    "INSERT INTO source_table VALUES (2, 'LAND CRUISER 250', '1GD-FTV');\n",
    "SELECT * FROM source_table ORDER BY id;"
   ]
  },
  {
   "cell_type": "code",
   "execution_count": 0,
   "metadata": {
    "application/vnd.databricks.v1+cell": {
     "cellMetadata": {
      "byteLimit": 2048000,
      "rowLimit": 10000
     },
     "inputWidgets": {},
     "nuid": "1c63853c-8953-4c2e-adc2-15c2d213738e",
     "showTitle": false,
     "tableResultSettingsMap": {},
     "title": ""
    }
   },
   "outputs": [],
   "source": [
    "%python\n",
    "tbl_location = spark.sql(\"DESCRIBE DETAIL source_table\").first().location\n",
    "display(dbutils.fs.ls(tbl_location))"
   ]
  },
  {
   "cell_type": "markdown",
   "metadata": {
    "application/vnd.databricks.v1+cell": {
     "cellMetadata": {},
     "inputWidgets": {},
     "nuid": "27289570-b916-4928-9431-301431105376",
     "showTitle": false,
     "tableResultSettingsMap": {},
     "title": ""
    }
   },
   "source": [
    "データファイルは２つ確認できます。"
   ]
  },
  {
   "cell_type": "code",
   "execution_count": 0,
   "metadata": {
    "application/vnd.databricks.v1+cell": {
     "cellMetadata": {
      "byteLimit": 2048000,
      "rowLimit": 10000
     },
     "inputWidgets": {},
     "nuid": "fb9dbf23-a243-4e4f-86f3-54700de6267e",
     "showTitle": false,
     "tableResultSettingsMap": {},
     "title": ""
    }
   },
   "outputs": [],
   "source": [
    "%python\n",
    "display(dbutils.fs.ls(tbl_location + '/_delta_log'))"
   ]
  },
  {
   "cell_type": "code",
   "execution_count": 0,
   "metadata": {
    "application/vnd.databricks.v1+cell": {
     "cellMetadata": {
      "byteLimit": 2048000,
      "rowLimit": 10000
     },
     "inputWidgets": {},
     "nuid": "2d7f3f97-e28d-4270-b561-81f0d5c3c631",
     "showTitle": false,
     "tableResultSettingsMap": {},
     "title": ""
    }
   },
   "outputs": [],
   "source": [
    "DESCRIBE HISTORY source_table;"
   ]
  },
  {
   "cell_type": "markdown",
   "metadata": {
    "application/vnd.databricks.v1+cell": {
     "cellMetadata": {},
     "inputWidgets": {},
     "nuid": "e3030012-b7e1-42ac-b6dd-2510b6535871",
     "showTitle": false,
     "tableResultSettingsMap": {},
     "title": ""
    }
   },
   "source": [
    "トランザクションは３つ確認できます。"
   ]
  },
  {
   "cell_type": "markdown",
   "metadata": {
    "application/vnd.databricks.v1+cell": {
     "cellMetadata": {},
     "inputWidgets": {},
     "nuid": "77927914-e7e3-4ef8-a83a-0d3270083d57",
     "showTitle": false,
     "tableResultSettingsMap": {},
     "title": ""
    }
   },
   "source": [
    "### DEEP CLONE\n",
    "`DEEP CLONE` は、ソーステーブルからターゲットテーブルにデータとメタデータを完全にコピーします。 このコピーは段階的に行われるので、このコマンドを再度実行するとソースからターゲットの場所に変更を同期できます。"
   ]
  },
  {
   "cell_type": "code",
   "execution_count": 0,
   "metadata": {
    "application/vnd.databricks.v1+cell": {
     "cellMetadata": {
      "byteLimit": 2048000,
      "rowLimit": 10000
     },
     "inputWidgets": {},
     "nuid": "0ab33096-c347-4b0f-97be-9b9748766abd",
     "showTitle": false,
     "tableResultSettingsMap": {},
     "title": ""
    }
   },
   "outputs": [],
   "source": [
    "DROP TABLE IF EXISTS deep_clone_table;\n",
    "CREATE OR REPLACE TABLE deep_clone_table DEEP CLONE source_table;"
   ]
  },
  {
   "cell_type": "code",
   "execution_count": 0,
   "metadata": {
    "application/vnd.databricks.v1+cell": {
     "cellMetadata": {
      "byteLimit": 2048000,
      "rowLimit": 10000
     },
     "inputWidgets": {},
     "nuid": "831f2d7c-f0cd-490d-a2ce-3a3341c00b04",
     "showTitle": false,
     "tableResultSettingsMap": {},
     "title": ""
    }
   },
   "outputs": [],
   "source": [
    "%python\n",
    "tbl_location = spark.sql(\"DESCRIBE DETAIL deep_clone_table\").first().location\n",
    "display(dbutils.fs.ls(tbl_location))"
   ]
  },
  {
   "cell_type": "markdown",
   "metadata": {
    "application/vnd.databricks.v1+cell": {
     "cellMetadata": {},
     "inputWidgets": {},
     "nuid": "39a47314-6ae9-426e-8e47-ac8d476d89c5",
     "showTitle": false,
     "tableResultSettingsMap": {},
     "title": ""
    }
   },
   "source": [
    "DEEP CLONE は完全なコピーであるためデータファイルは同じく３つです。"
   ]
  },
  {
   "cell_type": "code",
   "execution_count": 0,
   "metadata": {
    "application/vnd.databricks.v1+cell": {
     "cellMetadata": {
      "byteLimit": 2048000,
      "rowLimit": 10000
     },
     "inputWidgets": {},
     "nuid": "911f02de-476e-462a-9a9e-5872ba802aa4",
     "showTitle": false,
     "tableResultSettingsMap": {},
     "title": ""
    }
   },
   "outputs": [],
   "source": [
    "%python\n",
    "display(dbutils.fs.ls(tbl_location + '/_delta_log'))"
   ]
  },
  {
   "cell_type": "code",
   "execution_count": 0,
   "metadata": {
    "application/vnd.databricks.v1+cell": {
     "cellMetadata": {
      "byteLimit": 2048000,
      "rowLimit": 10000
     },
     "inputWidgets": {},
     "nuid": "b5bb2f1c-502f-4f99-a552-9da97ba37d18",
     "showTitle": false,
     "tableResultSettingsMap": {},
     "title": ""
    }
   },
   "outputs": [],
   "source": [
    "DESCRIBE HISTORY deep_clone_table;"
   ]
  },
  {
   "cell_type": "markdown",
   "metadata": {
    "application/vnd.databricks.v1+cell": {
     "cellMetadata": {},
     "inputWidgets": {},
     "nuid": "58737255-475b-4e5d-b03b-0a1cec188636",
     "showTitle": false,
     "tableResultSettingsMap": {},
     "title": ""
    }
   },
   "source": [
    "バージョンはクローン元とは別に新たに管理されていることがわかります。"
   ]
  },
  {
   "cell_type": "code",
   "execution_count": 0,
   "metadata": {
    "application/vnd.databricks.v1+cell": {
     "cellMetadata": {
      "byteLimit": 2048000,
      "rowLimit": 10000
     },
     "inputWidgets": {},
     "nuid": "1e4f7c86-4eb3-4732-9db5-293a3159acfd",
     "showTitle": false,
     "tableResultSettingsMap": {},
     "title": ""
    }
   },
   "outputs": [],
   "source": [
    "INSERT INTO deep_clone_table VALUES (3, 'LAND CRUISER 300', 'F33A-FTV');\n",
    "SELECT * FROM deep_clone_table ORDER BY id;"
   ]
  },
  {
   "cell_type": "code",
   "execution_count": 0,
   "metadata": {
    "application/vnd.databricks.v1+cell": {
     "cellMetadata": {
      "byteLimit": 2048000,
      "rowLimit": 10000
     },
     "inputWidgets": {},
     "nuid": "f1f04c74-2cfc-4df9-b685-6c51850db2b7",
     "showTitle": false,
     "tableResultSettingsMap": {},
     "title": ""
    }
   },
   "outputs": [],
   "source": [
    "SELECT * FROM source_table ORDER BY id;"
   ]
  },
  {
   "cell_type": "markdown",
   "metadata": {
    "application/vnd.databricks.v1+cell": {
     "cellMetadata": {},
     "inputWidgets": {},
     "nuid": "f36a4b30-c989-4ba6-98b4-4a7993600133",
     "showTitle": false,
     "tableResultSettingsMap": {},
     "title": ""
    }
   },
   "source": [
    "### SHALLOW CLONE\n",
    "ソーステーブルからターゲットテーブルにトランザクションログのみコピーしデータは移動しません。`DEEP CLONE` はすべてのデータファイルをコピーする必要があるため、大きなデータセットの場合、この処理は、長時間がかかる場合があります。現在のテーブルを変更してしまうリスクを冒さずに変更の適用を試し、簡単にテーブルのコピーを作成したいときは `SHALLOW CLONE` が便利です。"
   ]
  },
  {
   "cell_type": "code",
   "execution_count": 0,
   "metadata": {
    "application/vnd.databricks.v1+cell": {
     "cellMetadata": {
      "byteLimit": 2048000,
      "rowLimit": 10000
     },
     "inputWidgets": {},
     "nuid": "892e892c-4ada-4cb9-bac8-0347202228a4",
     "showTitle": false,
     "tableResultSettingsMap": {},
     "title": ""
    }
   },
   "outputs": [],
   "source": [
    "DROP TABLE IF EXISTS shallow_clone_table;\n",
    "CREATE OR REPLACE TABLE shallow_clone_table SHALLOW CLONE source_table;"
   ]
  },
  {
   "cell_type": "code",
   "execution_count": 0,
   "metadata": {
    "application/vnd.databricks.v1+cell": {
     "cellMetadata": {
      "byteLimit": 2048000,
      "rowLimit": 10000
     },
     "inputWidgets": {},
     "nuid": "54eda043-25f3-48af-bb8b-631bc5c54385",
     "showTitle": false,
     "tableResultSettingsMap": {},
     "title": ""
    }
   },
   "outputs": [],
   "source": [
    "%python\n",
    "tbl_location = spark.sql(\"DESCRIBE DETAIL shallow_clone_table\").first().location\n",
    "display(dbutils.fs.ls(tbl_location))"
   ]
  },
  {
   "cell_type": "markdown",
   "metadata": {
    "application/vnd.databricks.v1+cell": {
     "cellMetadata": {},
     "inputWidgets": {},
     "nuid": "a663f254-ce61-49cb-85dc-d0a89850fd85",
     "showTitle": false,
     "tableResultSettingsMap": {},
     "title": ""
    }
   },
   "source": [
    "DEEP CLONE とは異なり SHALLOW CLONE の場合はデータファイルがコピーされていないことがわかります。"
   ]
  },
  {
   "cell_type": "code",
   "execution_count": 0,
   "metadata": {
    "application/vnd.databricks.v1+cell": {
     "cellMetadata": {
      "byteLimit": 2048000,
      "rowLimit": 10000
     },
     "inputWidgets": {},
     "nuid": "d5aa6a35-9bd9-4e55-a999-bad473539f06",
     "showTitle": false,
     "tableResultSettingsMap": {},
     "title": ""
    }
   },
   "outputs": [],
   "source": [
    "%python\n",
    "display(dbutils.fs.ls(tbl_location + '/_delta_log'))"
   ]
  },
  {
   "cell_type": "code",
   "execution_count": 0,
   "metadata": {
    "application/vnd.databricks.v1+cell": {
     "cellMetadata": {
      "byteLimit": 2048000,
      "rowLimit": 10000
     },
     "inputWidgets": {},
     "nuid": "2e79daaa-a2a5-4809-bc0e-94bf4c366b35",
     "showTitle": false,
     "tableResultSettingsMap": {},
     "title": ""
    }
   },
   "outputs": [],
   "source": [
    "DESCRIBE HISTORY shallow_clone_table;"
   ]
  },
  {
   "cell_type": "markdown",
   "metadata": {
    "application/vnd.databricks.v1+cell": {
     "cellMetadata": {},
     "inputWidgets": {},
     "nuid": "fb96851d-71d6-43ae-8cd3-95d8a2f2849a",
     "showTitle": false,
     "tableResultSettingsMap": {},
     "title": ""
    }
   },
   "source": [
    "DEEP CLONE と同様に SHALLOW CLONE においてもバージョンはクローン元とは別に新たに管理されていることがわかります。"
   ]
  },
  {
   "cell_type": "code",
   "execution_count": 0,
   "metadata": {
    "application/vnd.databricks.v1+cell": {
     "cellMetadata": {
      "byteLimit": 2048000,
      "rowLimit": 10000
     },
     "inputWidgets": {},
     "nuid": "3bd23bdf-614c-4cea-b6f1-90842b6731b3",
     "showTitle": false,
     "tableResultSettingsMap": {},
     "title": ""
    }
   },
   "outputs": [],
   "source": [
    "INSERT INTO shallow_clone_table VALUES (3, 'LAND CRUISER 300', 'F33A-FTV');\n",
    "SELECT * FROM shallow_clone_table ORDER BY id;"
   ]
  },
  {
   "cell_type": "code",
   "execution_count": 0,
   "metadata": {
    "application/vnd.databricks.v1+cell": {
     "cellMetadata": {
      "byteLimit": 2048000,
      "rowLimit": 10000
     },
     "inputWidgets": {},
     "nuid": "e4d71d47-56fe-48f7-aa63-dae5b6e75d21",
     "showTitle": false,
     "tableResultSettingsMap": {},
     "title": ""
    }
   },
   "outputs": [],
   "source": [
    "%python\n",
    "tbl_location = spark.sql(\"DESCRIBE DETAIL shallow_clone_table\").first().location\n",
    "display(dbutils.fs.ls(tbl_location))"
   ]
  },
  {
   "cell_type": "markdown",
   "metadata": {
    "application/vnd.databricks.v1+cell": {
     "cellMetadata": {},
     "inputWidgets": {},
     "nuid": "5ed1734f-4dd1-4fbd-b993-b9fa42f7ba32",
     "showTitle": false,
     "tableResultSettingsMap": {},
     "title": ""
    }
   },
   "source": [
    "シャロークローンに対して追加された分のみデータファイルが作成されています。"
   ]
  },
  {
   "cell_type": "markdown",
   "metadata": {
    "application/vnd.databricks.v1+cell": {
     "cellMetadata": {},
     "inputWidgets": {},
     "nuid": "311a02c0-4d6d-4424-bf9d-6e38465afb84",
     "showTitle": false,
     "tableResultSettingsMap": {},
     "title": ""
    }
   },
   "source": [
    "### クローン元テーブルの削除とその影響"
   ]
  },
  {
   "cell_type": "code",
   "execution_count": 0,
   "metadata": {
    "application/vnd.databricks.v1+cell": {
     "cellMetadata": {
      "byteLimit": 2048000,
      "rowLimit": 10000
     },
     "inputWidgets": {},
     "nuid": "dc7eb53e-1de6-45e7-a379-eabef56e8e30",
     "showTitle": false,
     "tableResultSettingsMap": {},
     "title": ""
    }
   },
   "outputs": [],
   "source": [
    "DROP TABLE source_table;"
   ]
  },
  {
   "cell_type": "markdown",
   "metadata": {
    "application/vnd.databricks.v1+cell": {
     "cellMetadata": {},
     "inputWidgets": {},
     "nuid": "68b53aee-e314-4b7a-be06-4318c92ec52a",
     "showTitle": false,
     "tableResultSettingsMap": {},
     "title": ""
    }
   },
   "source": [
    "DEEP CLONE はクローン元から独立するためクローン元が削除されても影響がありません。"
   ]
  },
  {
   "cell_type": "code",
   "execution_count": 0,
   "metadata": {
    "application/vnd.databricks.v1+cell": {
     "cellMetadata": {
      "byteLimit": 2048000,
      "rowLimit": 10000
     },
     "inputWidgets": {},
     "nuid": "942d6d82-9e21-423c-a714-6906de0ab49e",
     "showTitle": false,
     "tableResultSettingsMap": {},
     "title": ""
    }
   },
   "outputs": [],
   "source": [
    "SELECT * FROM deep_clone_table ORDER BY id;"
   ]
  },
  {
   "cell_type": "markdown",
   "metadata": {
    "application/vnd.databricks.v1+cell": {
     "cellMetadata": {},
     "inputWidgets": {},
     "nuid": "9b1c4d8d-789d-4ae1-8946-ad645e254329",
     "showTitle": false,
     "tableResultSettingsMap": {},
     "title": ""
    }
   },
   "source": [
    "一方で SHALLOW CLONE はクローン元に依存するためクローン元が削除されると機能しません。\n",
    "\n",
    "**留意** ：結果が返ってくる場合はキャッシュが効いている可能性があります。時間に余裕があるときにクラスタを再起動したのちに再度確認してみてください。 "
   ]
  },
  {
   "cell_type": "code",
   "execution_count": 0,
   "metadata": {
    "application/vnd.databricks.v1+cell": {
     "cellMetadata": {
      "byteLimit": 2048000,
      "rowLimit": 10000
     },
     "inputWidgets": {},
     "nuid": "74c0f526-e8d0-4098-a807-d44721bc6854",
     "showTitle": false,
     "tableResultSettingsMap": {},
     "title": ""
    }
   },
   "outputs": [],
   "source": [
    "-- SELECT * FROM shallow_clone_table ORDER BY id;"
   ]
  },
  {
   "cell_type": "markdown",
   "metadata": {
    "application/vnd.databricks.v1+cell": {
     "cellMetadata": {},
     "inputWidgets": {},
     "nuid": "e26296ed-f21d-4ba9-8521-9f3cb8f864dd",
     "showTitle": false,
     "tableResultSettingsMap": {},
     "title": ""
    }
   },
   "source": [
    "# クリーンアップ"
   ]
  },
  {
   "cell_type": "code",
   "execution_count": 0,
   "metadata": {
    "application/vnd.databricks.v1+cell": {
     "cellMetadata": {
      "byteLimit": 2048000,
      "rowLimit": 10000
     },
     "inputWidgets": {},
     "nuid": "ba377d89-74ee-409b-89e2-1dbd8da09da7",
     "showTitle": false,
     "tableResultSettingsMap": {},
     "title": ""
    }
   },
   "outputs": [],
   "source": [
    "USE CATALOG hive_metastore;\n",
    "DROP SCHEMA IF EXISTS ${your_schema} CASCADE;"
   ]
  },
  {
   "cell_type": "code",
   "execution_count": 0,
   "metadata": {
    "application/vnd.databricks.v1+cell": {
     "cellMetadata": {
      "byteLimit": 2048000,
      "rowLimit": 10000
     },
     "inputWidgets": {},
     "nuid": "3644ffc3-eebe-4f5b-8ab5-0d2108f7d50a",
     "showTitle": false,
     "tableResultSettingsMap": {},
     "title": ""
    }
   },
   "outputs": [],
   "source": [
    "%python\n",
    "dbutils.widgets.remove(\"sample_dataset_path\")\n",
    "dbutils.widgets.remove(\"your_catalog\")\n",
    "dbutils.widgets.remove(\"your_schema\")"
   ]
  }
 ],
 "metadata": {
  "application/vnd.databricks.v1+notebook": {
   "computePreferences": null,
   "dashboards": [],
   "environmentMetadata": {
    "base_environment": "",
    "environment_version": "1"
   },
   "inputWidgetPreferences": null,
   "language": "sql",
   "notebookMetadata": {
    "mostRecentlyExecutedCommandWithImplicitDF": {
     "commandId": -1,
     "dataframes": [
      "_sqldf"
     ]
    },
    "pythonIndentUnit": 4
   },
   "notebookName": "03_Delta_Lake",
   "widgets": {
    "sample_dataset_path": {
     "currentValue": "/Volumes/o9o9dbw/tooota0303_schema/sample_dataset_volume",
     "nuid": "c6489f75-6356-43dc-ab72-1d1712715b53",
     "typedWidgetInfo": {
      "autoCreated": false,
      "defaultValue": "/Volumes/o9o9dbw/tooota0303_schema/sample_dataset_volume",
      "label": null,
      "name": "sample_dataset_path",
      "options": {
       "widgetDisplayType": "Text",
       "validationRegex": null
      },
      "parameterDataType": "String"
     },
     "widgetInfo": {
      "widgetType": "text",
      "defaultValue": "/Volumes/o9o9dbw/tooota0303_schema/sample_dataset_volume",
      "label": null,
      "name": "sample_dataset_path",
      "options": {
       "widgetType": "text",
       "autoCreated": false,
       "validationRegex": null
      }
     }
    },
    "your_catalog": {
     "currentValue": "o9o9dbw",
     "nuid": "91f29094-d272-4b3d-ba29-7f4a0ee3e736",
     "typedWidgetInfo": {
      "autoCreated": false,
      "defaultValue": "o9o9dbw",
      "label": null,
      "name": "your_catalog",
      "options": {
       "widgetDisplayType": "Text",
       "validationRegex": null
      },
      "parameterDataType": "String"
     },
     "widgetInfo": {
      "widgetType": "text",
      "defaultValue": "o9o9dbw",
      "label": null,
      "name": "your_catalog",
      "options": {
       "widgetType": "text",
       "autoCreated": false,
       "validationRegex": null
      }
     }
    },
    "your_schema": {
     "currentValue": "tooota0303_schema",
     "nuid": "31e908f5-1820-4b57-b7e0-fda01c10babb",
     "typedWidgetInfo": {
      "autoCreated": false,
      "defaultValue": "tooota0303_schema",
      "label": null,
      "name": "your_schema",
      "options": {
       "widgetDisplayType": "Text",
       "validationRegex": null
      },
      "parameterDataType": "String"
     },
     "widgetInfo": {
      "widgetType": "text",
      "defaultValue": "tooota0303_schema",
      "label": null,
      "name": "your_schema",
      "options": {
       "widgetType": "text",
       "autoCreated": false,
       "validationRegex": null
      }
     }
    }
   }
  },
  "language_info": {
   "name": "sql"
  }
 },
 "nbformat": 4,
 "nbformat_minor": 0
}
