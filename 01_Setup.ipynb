{
 "cells": [
  {
   "cell_type": "markdown",
   "metadata": {
    "application/vnd.databricks.v1+cell": {
     "cellMetadata": {},
     "inputWidgets": {},
     "nuid": "b1803ea7-264f-4614-935f-8b59d92cab52",
     "showTitle": false,
     "tableResultSettingsMap": {},
     "title": ""
    }
   },
   "source": [
    "# ラボをはじめましょう！"
   ]
  },
  {
   "cell_type": "markdown",
   "metadata": {
    "application/vnd.databricks.v1+cell": {
     "cellMetadata": {},
     "inputWidgets": {},
     "nuid": "f8cb9d2d-fc7a-4e0e-91e7-97222d10f3f6",
     "showTitle": false,
     "tableResultSettingsMap": {},
     "title": ""
    }
   },
   "source": [
    "## 1. Databricks ワークスペースへのサインイン\n"
   ]
  },
  {
   "cell_type": "markdown",
   "metadata": {
    "application/vnd.databricks.v1+cell": {
     "cellMetadata": {},
     "inputWidgets": {},
     "nuid": "831da7fa-701c-4569-ab63-d8264896047a",
     "showTitle": false,
     "tableResultSettingsMap": {},
     "title": ""
    }
   },
   "source": [
    "事務局から案内のある Databricks ワークスペース への URL https://adb-xxx.azuredatabricks.net にアクセスしサインインしてください。\n",
    "\n",
    "</br><img src=\"images/setup.0.png\" width=\"600\"/>  "
   ]
  },
  {
   "cell_type": "markdown",
   "metadata": {
    "application/vnd.databricks.v1+cell": {
     "cellMetadata": {},
     "inputWidgets": {},
     "nuid": "fd7e7f14-c49c-40db-b1ec-9f8b73e74927",
     "showTitle": false,
     "tableResultSettingsMap": {},
     "title": ""
    }
   },
   "source": [
    "## 2. 表示言語の設定"
   ]
  },
  {
   "cell_type": "markdown",
   "metadata": {
    "application/vnd.databricks.v1+cell": {
     "cellMetadata": {},
     "inputWidgets": {},
     "nuid": "8ecc6713-d518-4515-a955-3b9f00597753",
     "showTitle": false,
     "tableResultSettingsMap": {},
     "title": ""
    }
   },
   "source": [
    "必要に応じて表示言語（既定：English）を変更します。  \n",
    "\n",
    "Settings から任意の言語（例：日本語）を選択してください。\n",
    "</br><img src=\"images/setup.1.png\" width=\"600\"/>  "
   ]
  },
  {
   "cell_type": "markdown",
   "metadata": {
    "application/vnd.databricks.v1+cell": {
     "cellMetadata": {},
     "inputWidgets": {},
     "nuid": "8aba6948-5565-4bdb-9e9b-7fb5bde33300",
     "showTitle": false,
     "tableResultSettingsMap": {},
     "title": ""
    }
   },
   "source": [
    "## 3. ハンズオンコンテンツのセットアップ"
   ]
  },
  {
   "cell_type": "markdown",
   "metadata": {
    "application/vnd.databricks.v1+cell": {
     "cellMetadata": {},
     "inputWidgets": {},
     "nuid": "28a984e0-0714-441c-a5c5-664531a4b867",
     "showTitle": false,
     "tableResultSettingsMap": {},
     "title": ""
    }
   },
   "source": [
    "### ハンズオンコンテンツのダウンロード\n",
    "[GitHub リポジトリ](https://github.com/gho9o9/adb-handson)からハンズオンコンテンツをクローンします。\n",
    "</br><img src=\"images/setup.2.png\" width=\"600\"/>\n",
    "\n",
    "`Git リポジトリの URL`に `https://github.com/gho9o9/azure_databricks_lab.git` を指定します。\n",
    "</br><img src=\"images/setup.3.png\" width=\"600\"/>  \n",
    "</br><img src=\"images/setup.4.png\" width=\"600\"/>  "
   ]
  },
  {
   "cell_type": "markdown",
   "metadata": {
    "application/vnd.databricks.v1+cell": {
     "cellMetadata": {},
     "inputWidgets": {},
     "nuid": "1c6f5197-8d68-4a9f-a018-7257d4221bc9",
     "showTitle": false,
     "tableResultSettingsMap": {},
     "title": ""
    }
   },
   "source": [
    "### 任意：ハンズオンコンテンツの最新化\n",
    "既にクローン済みのリポジトリから最新のコンテンツをダウンロードする場合は PULL を行います。  \n",
    "</br><img src=\"images/setup.5.png\" width=\"600\"/>  \n",
    "</br><img src=\"images/setup.6.png\" width=\"600\"/>  "
   ]
  },
  {
   "cell_type": "markdown",
   "metadata": {
    "application/vnd.databricks.v1+cell": {
     "cellMetadata": {},
     "inputWidgets": {},
     "nuid": "efe18e08-e767-4c0e-a56a-bb9148172bfa",
     "showTitle": false,
     "tableResultSettingsMap": {},
     "title": ""
    }
   },
   "source": [
    "### ハンズオンコンテンツの環境設定\n",
    "ハンズオンの環境設定を行います。  \n",
    "\n",
    "`include`フォルダ内の`handson.h` ノートブックを開きます。  \n",
    "</br><img src=\"images/setup.12.png\" width=\"600\"/>  \n",
    "\n",
    "ノートブック冒頭のセル内で定義された変数（`your_identifier`と`your_schema`）の値を講師に指示に従い編集します。ここではセルを実行する必要はありません。  \n",
    "</br><img src=\"images/setup.8.png\" width=\"600\"/>  \n"
   ]
  },
  {
   "cell_type": "markdown",
   "metadata": {
    "application/vnd.databricks.v1+cell": {
     "cellMetadata": {},
     "inputWidgets": {},
     "nuid": "aa6dce11-6e55-47b7-9285-707b104f0348",
     "showTitle": false,
     "tableResultSettingsMap": {},
     "title": ""
    }
   },
   "source": [
    "## 4. サンプルデータのセットアップ\n",
    "\n",
    "ラボで利用するサンプルデータのセットアップを行います。  \n",
    "\n",
    "`01_Setup`ノートブックを開いてください。  \n",
    "</br><img src=\"images/setup.11.png\" width=\"600\"/>  "
   ]
  },
  {
   "cell_type": "markdown",
   "metadata": {
    "application/vnd.databricks.v1+cell": {
     "cellMetadata": {},
     "inputWidgets": {},
     "nuid": "bffa34d8-d67a-4dd5-979c-03d2b928802e",
     "showTitle": false,
     "tableResultSettingsMap": {},
     "title": ""
    }
   },
   "source": [
    "### クラスターのアタッチ\n",
    "サンプルデータのセットアップはノートブックの実行を伴うためクラスターをアタッチします。  \n",
    "</br><img src=\"images/setup.9.png\" width=\"600\"/>  \n",
    "このノートブックの右肩にあるクラスターリストから`サーバーレス`を選択します。`サーバーレス`が選択肢に無い場合は講師の指示に従います（プロビジョニング汎用クラスタを別途作成してアタッチします）。"
   ]
  },
  {
   "cell_type": "markdown",
   "metadata": {
    "application/vnd.databricks.v1+cell": {
     "cellMetadata": {},
     "inputWidgets": {},
     "nuid": "f984b386-db5f-4fad-ba4c-d90a070b6c53",
     "showTitle": false,
     "tableResultSettingsMap": {},
     "title": ""
    }
   },
   "source": [
    "### ハンズオン用おまじない処理\n",
    "ハンズオンのコンテンツを実行する場合に共通して事前実行するノートブックを呼び出します。\n",
    "- `%run` によってノートブック内で別のノートブックをインラインで呼び出すことができます。\n",
    "  - [Databricks ノートブックを別のノートブックから実行する](https://learn.microsoft.com/ja-jp/azure/databricks/notebooks/notebook-workflows)\n",
    "- handson.h ノートブック内でハンズオンのコンテンツで使用するリソース（変数や関数）を定義しています。"
   ]
  },
  {
   "cell_type": "code",
   "execution_count": 0,
   "metadata": {
    "application/vnd.databricks.v1+cell": {
     "cellMetadata": {},
     "inputWidgets": {},
     "nuid": "777d9f2c-a6c0-44e9-a294-bb3afb82d21c",
     "showTitle": false,
     "tableResultSettingsMap": {},
     "title": ""
    }
   },
   "outputs": [],
   "source": [
    "%run ./include/handson.h"
   ]
  },
  {
   "cell_type": "markdown",
   "metadata": {
    "application/vnd.databricks.v1+cell": {
     "cellMetadata": {},
     "inputWidgets": {},
     "nuid": "3ac5f80c-c85e-456c-9ad7-033ca03cdbdb",
     "showTitle": false,
     "tableResultSettingsMap": {},
     "title": ""
    }
   },
   "source": [
    "### Volume の作成（Databricks Runtime 13.3 LTS and above）"
   ]
  },
  {
   "cell_type": "code",
   "execution_count": 0,
   "metadata": {
    "application/vnd.databricks.v1+cell": {
     "cellMetadata": {},
     "inputWidgets": {},
     "nuid": "d8a2a69f-bd7f-4555-a997-f5ffd7c025a6",
     "showTitle": false,
     "tableResultSettingsMap": {},
     "title": ""
    }
   },
   "outputs": [],
   "source": [
    "# spark.sql(f\"\"\"DROP VOLUME IF EXISTS {your_volume}\"\"\")\n",
    "spark.sql(f\"\"\"CREATE VOLUME IF NOT EXISTS {your_volume}\"\"\")"
   ]
  },
  {
   "cell_type": "markdown",
   "metadata": {
    "application/vnd.databricks.v1+cell": {
     "cellMetadata": {},
     "inputWidgets": {},
     "nuid": "5bb7f044-0a6a-4282-adf6-7e68d24633c0",
     "showTitle": false,
     "tableResultSettingsMap": {},
     "title": ""
    }
   },
   "source": [
    "### Volume へのアップロード\n",
    "サンプルデータを Volume へマニュアル操作でアップロードします。  \n",
    "</br><img src=\"images/setup.10.png\" width=\"600\"/>  \n",
    "`sample_dataset フォルダ`のハンバーガーメニュー（`︙`）を選択し`エクスポート` -> `ソースファイル` をクリックしダウンロードされた Zip ファイルを解凍しておきます。  \n",
    "\n",
    "</br><img src=\"images/00.2.1.png\" width=\"600\"/>  \n",
    "ノートブックの左型タブにある`Catalog (Ctrl + Alt + C)`から`sample_dataset_volume ボリューム`を展開しハンバーガーメニュー（`︙`）の`ボリュームへのアップロード`を選択します。  \n",
    "\n",
    "</br><img src=\"images/00.2.2.png\" width=\"600\"/>  \n",
    "</br><img src=\"images/00.2.3.png\" width=\"600\"/>  \n",
    "表示されたウィンドウに解凍した `sample_dataset` フォルダ配下のすべてのフォルダ（全7フォルダ）をドロップし`アップロード`を押下します。  \n",
    "\n",
    "</br><img src=\"images/00.2.4.png\" width=\"600\"/>  "
   ]
  },
  {
   "cell_type": "markdown",
   "metadata": {
    "application/vnd.databricks.v1+cell": {
     "cellMetadata": {},
     "inputWidgets": {},
     "nuid": "d152d822-5697-4f42-bd43-00feaefcf93b",
     "showTitle": false,
     "tableResultSettingsMap": {},
     "title": ""
    }
   },
   "source": [
    "以上で準備完了です。"
   ]
  },
  {
   "cell_type": "markdown",
   "metadata": {
    "application/vnd.databricks.v1+cell": {
     "cellMetadata": {},
     "inputWidgets": {},
     "nuid": "ec206345-c0e4-42be-938f-cf8446c1221f",
     "showTitle": false,
     "tableResultSettingsMap": {},
     "title": ""
    }
   },
   "source": [
    "# Next Action:\n",
    "- <a href=\"$./day-1\">Day-1 のハンズオンはこちら</a>\n",
    "- <a href=\"$./day-2\">Day-2 のハンズオンはこちら</a>\n",
    "- <a href=\"$./day-3\">Day-3 のハンズオンはこちら</a>\n",
    "- <a href=\"$./day-4\">Day-4 のハンズオンはこちら</a>"
   ]
  }
 ],
 "metadata": {
  "application/vnd.databricks.v1+notebook": {
   "computePreferences": null,
   "dashboards": [],
   "environmentMetadata": null,
   "inputWidgetPreferences": null,
   "language": "python",
   "notebookMetadata": {
    "pythonIndentUnit": 4
   },
   "notebookName": "01_Setup",
   "widgets": {}
  },
  "language_info": {
   "name": "python"
  }
 },
 "nbformat": 4,
 "nbformat_minor": 0
}
